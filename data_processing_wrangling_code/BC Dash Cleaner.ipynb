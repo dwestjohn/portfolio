{
 "cells": [
  {
   "cell_type": "markdown",
   "id": "6004ce14",
   "metadata": {},
   "source": [
    "IMPORTANT:\n",
    "SA - sent through email\n",
    "Window - sent through email\n",
    "3PD - sent through email\n",
    "(Hours of Op - Fresh Insights - Gold Workbooks - Daily Open and Close Times)\n",
    "EzCatering - sent through email\n",
    "(OSAT - Sub Listens ranker - click three dots, Export)"
   ]
  },
  {
   "cell_type": "markdown",
   "id": "211c67bc",
   "metadata": {},
   "source": [
    "Dependencies"
   ]
  },
  {
   "cell_type": "code",
   "execution_count": 1,
   "id": "aeab9b86",
   "metadata": {},
   "outputs": [],
   "source": [
    "import pandas as pd\n",
    "import numpy as np\n",
    "from io import StringIO\n",
    "from functools import reduce\n",
    "import glob"
   ]
  },
  {
   "cell_type": "markdown",
   "id": "08a9f252",
   "metadata": {},
   "source": [
    "Read in raw data files"
   ]
  },
  {
   "cell_type": "code",
   "execution_count": 3,
   "id": "90cf1004",
   "metadata": {},
   "outputs": [],
   "source": [
    "# Read in all data\n",
    "# IMPORTANT: switch file names to match script\n",
    "win_data = pd.read_excel(\"data/win_data.xlsx\")\n",
    "ez_data = pd.read_excel(\"data/ez_data.xlsx\")\n",
    "osat_data = pd.read_excel(\"data/osat_data.xlsx\")\n",
    "sa_data = pd.read_excel(\"data/sa_data.xlsx\")\n",
    "hours_data = pd.read_csv(\"data/hours_data.csv\")\n",
    "threepd_data = pd.read_excel(\"data/3pd_data.xlsx\")\n",
    "bc_data = pd.read_excel(\"data/BC_list.xlsx\")\n",
    "rev_data = pd.read_csv(\"data/rev_data.csv\")\n",
    "drinks_data = pd.read_csv(\"data/drinks_data.csv\")\n",
    "rest_data = pd.read_csv(\"data/rest_data.csv\")\n",
    "ro_data = pd.read_csv(\"data/ro_data.csv\")"
   ]
  },
  {
   "cell_type": "markdown",
   "id": "3c119f7a",
   "metadata": {},
   "source": [
    "Clean and Transform bc_data"
   ]
  },
  {
   "cell_type": "code",
   "execution_count": 56,
   "id": "1a233bc4",
   "metadata": {},
   "outputs": [],
   "source": [
    "# Concate BC List sheets into one\n",
    "bc_data = pd.concat(pd.read_excel(\"data/BC_list.xlsx\", sheet_name=None), \n",
    "                   ignore_index=True)"
   ]
  },
  {
   "cell_type": "code",
   "execution_count": 57,
   "id": "52127bce",
   "metadata": {},
   "outputs": [],
   "source": [
    "bc_data = bc_data[[\"Restaurant #\", \"Field Consultant\"]]"
   ]
  },
  {
   "cell_type": "code",
   "execution_count": 58,
   "id": "ad7ca291",
   "metadata": {},
   "outputs": [],
   "source": [
    "bc_data = bc_data.rename(columns={\"Restaurant #\": \"Store Number\"})"
   ]
  },
  {
   "cell_type": "code",
   "execution_count": 59,
   "id": "68c23bed",
   "metadata": {},
   "outputs": [
    {
     "data": {
      "text/plain": [
       "2"
      ]
     },
     "execution_count": 59,
     "metadata": {},
     "output_type": "execute_result"
    }
   ],
   "source": [
    "bc_data[\"Field Consultant\"].isnull().sum()"
   ]
  },
  {
   "cell_type": "code",
   "execution_count": 2,
   "id": "e249cfcb",
   "metadata": {},
   "outputs": [],
   "source": [
    "# Removed for privacy\n",
    "# bc_data.drop_duplicates(subset=[\"Store Number\"], keep=\"first\")"
   ]
  },
  {
   "cell_type": "code",
   "execution_count": 61,
   "id": "001094dc",
   "metadata": {},
   "outputs": [],
   "source": [
    "bc_data.to_excel(\"data/BC_list.xlsx\", index=False)"
   ]
  },
  {
   "cell_type": "markdown",
   "id": "a31b19b1",
   "metadata": {},
   "source": [
    "Clean and Transform hours_data"
   ]
  },
  {
   "cell_type": "markdown",
   "id": "50a0ae40",
   "metadata": {},
   "source": [
    "IMPORTANT: Delete first four rows from raw file"
   ]
  },
  {
   "cell_type": "code",
   "execution_count": 29,
   "id": "94c67007",
   "metadata": {},
   "outputs": [],
   "source": [
    "# h_data = pd.read_excel(\"data/hours_data_clean.xlsx\")\n",
    "# hours_data = pd.DataFrame(h_data)"
   ]
  },
  {
   "cell_type": "code",
   "execution_count": 8,
   "id": "952af719",
   "metadata": {},
   "outputs": [],
   "source": [
    "# Create DF to rename columns\n",
    "hours_data = pd.DataFrame(hours_data)\n",
    "hours_data = hours_data.rename(columns={\"Hour Type \": \"Hour_Type\"})\n",
    "hours_data = hours_data.rename(columns={\"Restaurant Num\": \"Store Number\"})\n",
    "hours_data = hours_data.rename(columns={\"Total_Hours\": \"Total Hours\"})"
   ]
  },
  {
   "cell_type": "code",
   "execution_count": 9,
   "id": "632e50e0",
   "metadata": {},
   "outputs": [],
   "source": [
    "# Hours Data - Remove rows with Required Hours (must change col to Hour_Type)\n",
    "hours_data = hours_data[hours_data.Hour_Type != \"Required Hours\"]"
   ]
  },
  {
   "cell_type": "code",
   "execution_count": 10,
   "id": "fa9774f5",
   "metadata": {},
   "outputs": [],
   "source": [
    "hours_data = hours_data[[\"Store Number\", \"Total Hours\", \"BD Contract\", \"Primary Owner Name\", \"Restaurant\"]]"
   ]
  },
  {
   "cell_type": "code",
   "execution_count": 3,
   "id": "a7e55ec5",
   "metadata": {},
   "outputs": [],
   "source": [
    "# Removed for privacy\n",
    "# hours_data[\"Primary Owner Name\"] = hours_data[\"Primary Owner Name\"].replace(\"###\", \"###\")"
   ]
  },
  {
   "cell_type": "code",
   "execution_count": 4,
   "id": "c6d7d426",
   "metadata": {},
   "outputs": [],
   "source": [
    "# Removed for privacy\n",
    "# hours_data.drop_duplicates(subset=[\"Store Number\"], keep=\"first\")"
   ]
  },
  {
   "cell_type": "code",
   "execution_count": 19,
   "id": "84d63df2",
   "metadata": {},
   "outputs": [],
   "source": [
    "# Write Clean set\n",
    "hours_data.to_excel(\"data/hours_data_clean.xlsx\", index=False)"
   ]
  },
  {
   "cell_type": "markdown",
   "id": "f4fd4e53",
   "metadata": {},
   "source": [
    "Clean and Transform sa_data"
   ]
  },
  {
   "cell_type": "code",
   "execution_count": 11,
   "id": "f0fbff1b",
   "metadata": {},
   "outputs": [],
   "source": [
    "# DF and Rename Columns\n",
    "sa_data = pd.DataFrame(sa_data)\n",
    "sa_data = sa_data.rename(columns={\"Restaurant Number\": \"Store Number\"})\n",
    "sa_data = sa_data.rename(columns={\"SA 1 # Overdue\": \"SA1 Overdue\"})\n",
    "sa_data = sa_data.rename(columns={\"SA 1 % Complete\": \"SA1 Complete\"})"
   ]
  },
  {
   "cell_type": "code",
   "execution_count": 12,
   "id": "70fb214c",
   "metadata": {},
   "outputs": [],
   "source": [
    "sa_data = sa_data[[\"Store Number\", \"SA1 Overdue\", \"SA1 Complete\"]]"
   ]
  },
  {
   "cell_type": "code",
   "execution_count": 13,
   "id": "98186bee",
   "metadata": {},
   "outputs": [
    {
     "data": {
      "text/html": [
       "<div>\n",
       "<style scoped>\n",
       "    .dataframe tbody tr th:only-of-type {\n",
       "        vertical-align: middle;\n",
       "    }\n",
       "\n",
       "    .dataframe tbody tr th {\n",
       "        vertical-align: top;\n",
       "    }\n",
       "\n",
       "    .dataframe thead th {\n",
       "        text-align: right;\n",
       "    }\n",
       "</style>\n",
       "<table border=\"1\" class=\"dataframe\">\n",
       "  <thead>\n",
       "    <tr style=\"text-align: right;\">\n",
       "      <th></th>\n",
       "      <th>Store Number</th>\n",
       "      <th>SA1 Overdue</th>\n",
       "      <th>SA1 Complete</th>\n",
       "    </tr>\n",
       "  </thead>\n",
       "  <tbody>\n",
       "    <tr>\n",
       "      <th>0</th>\n",
       "      <td>2</td>\n",
       "      <td>0</td>\n",
       "      <td>1.0</td>\n",
       "    </tr>\n",
       "    <tr>\n",
       "      <th>1</th>\n",
       "      <td>8</td>\n",
       "      <td>0</td>\n",
       "      <td>1.0</td>\n",
       "    </tr>\n",
       "    <tr>\n",
       "      <th>2</th>\n",
       "      <td>10</td>\n",
       "      <td>0</td>\n",
       "      <td>1.0</td>\n",
       "    </tr>\n",
       "    <tr>\n",
       "      <th>3</th>\n",
       "      <td>12</td>\n",
       "      <td>0</td>\n",
       "      <td>1.0</td>\n",
       "    </tr>\n",
       "    <tr>\n",
       "      <th>4</th>\n",
       "      <td>24</td>\n",
       "      <td>0</td>\n",
       "      <td>1.0</td>\n",
       "    </tr>\n",
       "    <tr>\n",
       "      <th>...</th>\n",
       "      <td>...</td>\n",
       "      <td>...</td>\n",
       "      <td>...</td>\n",
       "    </tr>\n",
       "    <tr>\n",
       "      <th>36528</th>\n",
       "      <td>71395</td>\n",
       "      <td>2</td>\n",
       "      <td>0.0</td>\n",
       "    </tr>\n",
       "    <tr>\n",
       "      <th>36529</th>\n",
       "      <td>71626</td>\n",
       "      <td>0</td>\n",
       "      <td>0.0</td>\n",
       "    </tr>\n",
       "    <tr>\n",
       "      <th>36530</th>\n",
       "      <td>71656</td>\n",
       "      <td>0</td>\n",
       "      <td>0.0</td>\n",
       "    </tr>\n",
       "    <tr>\n",
       "      <th>36531</th>\n",
       "      <td>71699</td>\n",
       "      <td>0</td>\n",
       "      <td>0.0</td>\n",
       "    </tr>\n",
       "    <tr>\n",
       "      <th>36532</th>\n",
       "      <td>71700</td>\n",
       "      <td>0</td>\n",
       "      <td>0.0</td>\n",
       "    </tr>\n",
       "  </tbody>\n",
       "</table>\n",
       "<p>36533 rows × 3 columns</p>\n",
       "</div>"
      ],
      "text/plain": [
       "       Store Number  SA1 Overdue  SA1 Complete\n",
       "0                 2            0           1.0\n",
       "1                 8            0           1.0\n",
       "2                10            0           1.0\n",
       "3                12            0           1.0\n",
       "4                24            0           1.0\n",
       "...             ...          ...           ...\n",
       "36528         71395            2           0.0\n",
       "36529         71626            0           0.0\n",
       "36530         71656            0           0.0\n",
       "36531         71699            0           0.0\n",
       "36532         71700            0           0.0\n",
       "\n",
       "[36533 rows x 3 columns]"
      ]
     },
     "execution_count": 13,
     "metadata": {},
     "output_type": "execute_result"
    }
   ],
   "source": [
    "# Drop bad duplicated data in sa_data\n",
    "sa_data.drop_duplicates(subset=[\"Store Number\"], keep=\"first\")"
   ]
  },
  {
   "cell_type": "code",
   "execution_count": 14,
   "id": "084a02d7",
   "metadata": {},
   "outputs": [],
   "source": [
    "sa_data.to_excel(\"data/sa_data_clean.xlsx\", index=False)"
   ]
  },
  {
   "cell_type": "code",
   "execution_count": null,
   "id": "7b772e29",
   "metadata": {},
   "outputs": [],
   "source": [
    "# Unnamed Column\n",
    "# sa_data.drop([\"Unnamed: 0\"], axis=1, inplace=True)"
   ]
  },
  {
   "cell_type": "markdown",
   "id": "48ef2917",
   "metadata": {},
   "source": [
    "Clean and Transform osat_data"
   ]
  },
  {
   "cell_type": "code",
   "execution_count": 15,
   "id": "a53da1e9",
   "metadata": {},
   "outputs": [],
   "source": [
    "# DF and Rename Columns\n",
    "osat_data = pd.DataFrame(osat_data)\n",
    "osat_data = osat_data.rename(columns={\"\": \"Store Number\"})\n",
    "osat_data = osat_data.rename(columns={\"Taste/Quality of the Meal\": \"Quality\"})\n",
    "osat_data = osat_data.rename(columns={\"Cleanliness of Restaurant\": \"Cleanliness\"})\n",
    "osat_data = osat_data.rename(columns={\"Net Promoter Score\": \"NPS\"})\n",
    "osat_data = osat_data.rename(columns={\"% Alerts Closed within 24 Hours\": \"Alerts Closed 24 Hours\"})\n",
    "osat_data = osat_data.rename(columns={\"Surveys per Restaurant\": \"Surveys Per Restaurant\"})"
   ]
  },
  {
   "cell_type": "code",
   "execution_count": 16,
   "id": "b707000e",
   "metadata": {},
   "outputs": [],
   "source": [
    "osat_data = osat_data.rename(columns={\"Unnamed: 0\": \"Store Number\"})"
   ]
  },
  {
   "cell_type": "code",
   "execution_count": 17,
   "id": "3f18ba36",
   "metadata": {},
   "outputs": [
    {
     "name": "stderr",
     "output_type": "stream",
     "text": [
      "C:\\Users\\Westjohn\\AppData\\Local\\Temp/ipykernel_9064/415350303.py:2: FutureWarning: The default value of regex will change from True to False in a future version.\n",
      "  osat_data['Store Number'] = osat_data['Store Number'].str.replace(r'\\D', '')\n"
     ]
    }
   ],
   "source": [
    "# Clean OSAT column \n",
    "osat_data['Store Number'] = osat_data['Store Number'].str.replace(r'\\D', '')\n",
    "osat_data[\"Store Number\"] = osat_data[\"Store Number\"].str[:-1]"
   ]
  },
  {
   "cell_type": "code",
   "execution_count": 18,
   "id": "e6b3e5f4",
   "metadata": {},
   "outputs": [],
   "source": [
    "# Drop Multiple Columns from DF\n",
    "osat_data = osat_data[[\"Store Number\", \"Overall Satisfaction\", \"Quality\", \"Speed of Service\", \"Experience with Staff\", \"Cleanliness\", \"NPS\", \"Alerts Closed 24 Hours\", \"Surveys Per Restaurant\"]]"
   ]
  },
  {
   "cell_type": "code",
   "execution_count": 19,
   "id": "1bd79ff2",
   "metadata": {},
   "outputs": [
    {
     "data": {
      "text/html": [
       "<div>\n",
       "<style scoped>\n",
       "    .dataframe tbody tr th:only-of-type {\n",
       "        vertical-align: middle;\n",
       "    }\n",
       "\n",
       "    .dataframe tbody tr th {\n",
       "        vertical-align: top;\n",
       "    }\n",
       "\n",
       "    .dataframe thead th {\n",
       "        text-align: right;\n",
       "    }\n",
       "</style>\n",
       "<table border=\"1\" class=\"dataframe\">\n",
       "  <thead>\n",
       "    <tr style=\"text-align: right;\">\n",
       "      <th></th>\n",
       "      <th>Store Number</th>\n",
       "      <th>Overall Satisfaction</th>\n",
       "      <th>Quality</th>\n",
       "      <th>Speed of Service</th>\n",
       "      <th>Experience with Staff</th>\n",
       "      <th>Cleanliness</th>\n",
       "      <th>NPS</th>\n",
       "      <th>Alerts Closed 24 Hours</th>\n",
       "      <th>Surveys Per Restaurant</th>\n",
       "    </tr>\n",
       "  </thead>\n",
       "  <tbody>\n",
       "    <tr>\n",
       "      <th>0</th>\n",
       "      <td>10021</td>\n",
       "      <td>68.421053</td>\n",
       "      <td>68.421053</td>\n",
       "      <td>84.210526</td>\n",
       "      <td>63.157895</td>\n",
       "      <td>68.421053</td>\n",
       "      <td>52.631579</td>\n",
       "      <td>100.0</td>\n",
       "      <td>19.0</td>\n",
       "    </tr>\n",
       "    <tr>\n",
       "      <th>1</th>\n",
       "      <td>10029</td>\n",
       "      <td>70.0</td>\n",
       "      <td>75.0</td>\n",
       "      <td>90.0</td>\n",
       "      <td>80.0</td>\n",
       "      <td>75.0</td>\n",
       "      <td>65.0</td>\n",
       "      <td>100.0</td>\n",
       "      <td>20.0</td>\n",
       "    </tr>\n",
       "    <tr>\n",
       "      <th>2</th>\n",
       "      <td>10030</td>\n",
       "      <td>88.0</td>\n",
       "      <td>76.0</td>\n",
       "      <td>84.0</td>\n",
       "      <td>88.0</td>\n",
       "      <td>80.0</td>\n",
       "      <td>80.0</td>\n",
       "      <td>100.0</td>\n",
       "      <td>25.0</td>\n",
       "    </tr>\n",
       "    <tr>\n",
       "      <th>3</th>\n",
       "      <td>10070</td>\n",
       "      <td>64.285714</td>\n",
       "      <td>71.428571</td>\n",
       "      <td>78.571429</td>\n",
       "      <td>78.571429</td>\n",
       "      <td>64.285714</td>\n",
       "      <td>42.857143</td>\n",
       "      <td>100.0</td>\n",
       "      <td>14.0</td>\n",
       "    </tr>\n",
       "    <tr>\n",
       "      <th>4</th>\n",
       "      <td>10130</td>\n",
       "      <td>28.571429</td>\n",
       "      <td>42.857143</td>\n",
       "      <td>57.142857</td>\n",
       "      <td>42.857143</td>\n",
       "      <td>57.142857</td>\n",
       "      <td>0.0</td>\n",
       "      <td>40.0</td>\n",
       "      <td>7.0</td>\n",
       "    </tr>\n",
       "    <tr>\n",
       "      <th>...</th>\n",
       "      <td>...</td>\n",
       "      <td>...</td>\n",
       "      <td>...</td>\n",
       "      <td>...</td>\n",
       "      <td>...</td>\n",
       "      <td>...</td>\n",
       "      <td>...</td>\n",
       "      <td>...</td>\n",
       "      <td>...</td>\n",
       "    </tr>\n",
       "    <tr>\n",
       "      <th>627</th>\n",
       "      <td>7684</td>\n",
       "      <td>28.571429</td>\n",
       "      <td>57.142857</td>\n",
       "      <td>57.142857</td>\n",
       "      <td>57.142857</td>\n",
       "      <td>42.857143</td>\n",
       "      <td>0.0</td>\n",
       "      <td>100.0</td>\n",
       "      <td>7.0</td>\n",
       "    </tr>\n",
       "    <tr>\n",
       "      <th>628</th>\n",
       "      <td>7810</td>\n",
       "      <td>71.428571</td>\n",
       "      <td>78.571429</td>\n",
       "      <td>64.285714</td>\n",
       "      <td>50.0</td>\n",
       "      <td>85.714286</td>\n",
       "      <td>71.428571</td>\n",
       "      <td>100.0</td>\n",
       "      <td>14.0</td>\n",
       "    </tr>\n",
       "    <tr>\n",
       "      <th>629</th>\n",
       "      <td>7811</td>\n",
       "      <td>80.0</td>\n",
       "      <td>80.0</td>\n",
       "      <td>80.0</td>\n",
       "      <td>80.0</td>\n",
       "      <td>80.0</td>\n",
       "      <td>70.0</td>\n",
       "      <td>100.0</td>\n",
       "      <td>10.0</td>\n",
       "    </tr>\n",
       "    <tr>\n",
       "      <th>630</th>\n",
       "      <td>7842</td>\n",
       "      <td>58.823529</td>\n",
       "      <td>58.823529</td>\n",
       "      <td>82.352941</td>\n",
       "      <td>64.705882</td>\n",
       "      <td>52.941176</td>\n",
       "      <td>29.411765</td>\n",
       "      <td>100.0</td>\n",
       "      <td>17.0</td>\n",
       "    </tr>\n",
       "    <tr>\n",
       "      <th>631</th>\n",
       "      <td>7844</td>\n",
       "      <td>50.0</td>\n",
       "      <td>75.0</td>\n",
       "      <td>100.0</td>\n",
       "      <td>50.0</td>\n",
       "      <td>50.0</td>\n",
       "      <td>50.0</td>\n",
       "      <td>100.0</td>\n",
       "      <td>4.0</td>\n",
       "    </tr>\n",
       "  </tbody>\n",
       "</table>\n",
       "<p>631 rows × 9 columns</p>\n",
       "</div>"
      ],
      "text/plain": [
       "    Store Number Overall Satisfaction    Quality Speed of Service  \\\n",
       "0          10021            68.421053  68.421053        84.210526   \n",
       "1          10029                 70.0       75.0             90.0   \n",
       "2          10030                 88.0       76.0             84.0   \n",
       "3          10070            64.285714  71.428571        78.571429   \n",
       "4          10130            28.571429  42.857143        57.142857   \n",
       "..           ...                  ...        ...              ...   \n",
       "627         7684            28.571429  57.142857        57.142857   \n",
       "628         7810            71.428571  78.571429        64.285714   \n",
       "629         7811                 80.0       80.0             80.0   \n",
       "630         7842            58.823529  58.823529        82.352941   \n",
       "631         7844                 50.0       75.0            100.0   \n",
       "\n",
       "    Experience with Staff Cleanliness        NPS Alerts Closed 24 Hours  \\\n",
       "0               63.157895   68.421053  52.631579                  100.0   \n",
       "1                    80.0        75.0       65.0                  100.0   \n",
       "2                    88.0        80.0       80.0                  100.0   \n",
       "3               78.571429   64.285714  42.857143                  100.0   \n",
       "4               42.857143   57.142857        0.0                   40.0   \n",
       "..                    ...         ...        ...                    ...   \n",
       "627             57.142857   42.857143        0.0                  100.0   \n",
       "628                  50.0   85.714286  71.428571                  100.0   \n",
       "629                  80.0        80.0       70.0                  100.0   \n",
       "630             64.705882   52.941176  29.411765                  100.0   \n",
       "631                  50.0        50.0       50.0                  100.0   \n",
       "\n",
       "     Surveys Per Restaurant  \n",
       "0                      19.0  \n",
       "1                      20.0  \n",
       "2                      25.0  \n",
       "3                      14.0  \n",
       "4                       7.0  \n",
       "..                      ...  \n",
       "627                     7.0  \n",
       "628                    14.0  \n",
       "629                    10.0  \n",
       "630                    17.0  \n",
       "631                     4.0  \n",
       "\n",
       "[631 rows x 9 columns]"
      ]
     },
     "execution_count": 19,
     "metadata": {},
     "output_type": "execute_result"
    }
   ],
   "source": [
    "# Drop bad duplicated data in sa_data\n",
    "osat_data.drop_duplicates(subset=[\"Store Number\"], keep=\"first\")"
   ]
  },
  {
   "cell_type": "code",
   "execution_count": 20,
   "id": "cac55116",
   "metadata": {},
   "outputs": [],
   "source": [
    "osat_data.to_excel(\"data/osat_data_clean.xlsx\", index=False)"
   ]
  },
  {
   "cell_type": "markdown",
   "id": "6189727b",
   "metadata": {},
   "source": [
    "Clean and transform threepd_data"
   ]
  },
  {
   "cell_type": "code",
   "execution_count": 18,
   "id": "2e1a6aeb",
   "metadata": {},
   "outputs": [],
   "source": [
    "# DF and Rename Columns\n",
    "threepd_data = pd.DataFrame(threepd_data)\n",
    "threepd_data = threepd_data.rename(columns={\"DAI Store Number - \": \"Store Number\"})\n",
    "threepd_data = threepd_data.rename(columns={\"Grubhub Status?\": \"Grubhub Status\"})\n",
    "threepd_data = threepd_data.rename(columns={\"Subway Delivery Live?\": \"Subway Delivery Status\"})\n",
    "threepd_data = threepd_data.rename(columns={\"Doordash Status?\": \"Doordash Status\"})"
   ]
  },
  {
   "cell_type": "code",
   "execution_count": 22,
   "id": "55cf7c90",
   "metadata": {},
   "outputs": [],
   "source": [
    "# Drop Columns\n",
    "threepd_data = threepd_data[[\"Store Number\", \"Grubhub Status\", \"Subway Delivery Status\", \"Doordash Status\", \"Uber Status\"]]"
   ]
  },
  {
   "cell_type": "code",
   "execution_count": 23,
   "id": "2ed119ab",
   "metadata": {},
   "outputs": [
    {
     "data": {
      "text/html": [
       "<div>\n",
       "<style scoped>\n",
       "    .dataframe tbody tr th:only-of-type {\n",
       "        vertical-align: middle;\n",
       "    }\n",
       "\n",
       "    .dataframe tbody tr th {\n",
       "        vertical-align: top;\n",
       "    }\n",
       "\n",
       "    .dataframe thead th {\n",
       "        text-align: right;\n",
       "    }\n",
       "</style>\n",
       "<table border=\"1\" class=\"dataframe\">\n",
       "  <thead>\n",
       "    <tr style=\"text-align: right;\">\n",
       "      <th></th>\n",
       "      <th>Store Number</th>\n",
       "      <th>Grubhub Status</th>\n",
       "      <th>Subway Delivery Status</th>\n",
       "      <th>Doordash Status</th>\n",
       "      <th>Uber Status</th>\n",
       "    </tr>\n",
       "  </thead>\n",
       "  <tbody>\n",
       "    <tr>\n",
       "      <th>0</th>\n",
       "      <td>10070</td>\n",
       "      <td>Eligible</td>\n",
       "      <td>Yes</td>\n",
       "      <td>Live</td>\n",
       "      <td>Live</td>\n",
       "    </tr>\n",
       "    <tr>\n",
       "      <th>1</th>\n",
       "      <td>10130</td>\n",
       "      <td>In Process</td>\n",
       "      <td>Yes</td>\n",
       "      <td>Live</td>\n",
       "      <td>Live</td>\n",
       "    </tr>\n",
       "    <tr>\n",
       "      <th>2</th>\n",
       "      <td>10380</td>\n",
       "      <td>Eligible</td>\n",
       "      <td>Yes</td>\n",
       "      <td>Live</td>\n",
       "      <td>Live</td>\n",
       "    </tr>\n",
       "    <tr>\n",
       "      <th>3</th>\n",
       "      <td>10402</td>\n",
       "      <td>Not Eligible</td>\n",
       "      <td>NaN</td>\n",
       "      <td>Eligible</td>\n",
       "      <td>Eligible</td>\n",
       "    </tr>\n",
       "    <tr>\n",
       "      <th>4</th>\n",
       "      <td>10406</td>\n",
       "      <td>Live</td>\n",
       "      <td>Yes</td>\n",
       "      <td>Live</td>\n",
       "      <td>Live</td>\n",
       "    </tr>\n",
       "    <tr>\n",
       "      <th>...</th>\n",
       "      <td>...</td>\n",
       "      <td>...</td>\n",
       "      <td>...</td>\n",
       "      <td>...</td>\n",
       "      <td>...</td>\n",
       "    </tr>\n",
       "    <tr>\n",
       "      <th>633</th>\n",
       "      <td>11619</td>\n",
       "      <td>Not Eligible</td>\n",
       "      <td>Yes</td>\n",
       "      <td>Live</td>\n",
       "      <td>Not Eligible</td>\n",
       "    </tr>\n",
       "    <tr>\n",
       "      <th>634</th>\n",
       "      <td>21852</td>\n",
       "      <td>Live</td>\n",
       "      <td>Yes</td>\n",
       "      <td>Live</td>\n",
       "      <td>Live</td>\n",
       "    </tr>\n",
       "    <tr>\n",
       "      <th>635</th>\n",
       "      <td>45450</td>\n",
       "      <td>Not Eligible</td>\n",
       "      <td>NaN</td>\n",
       "      <td>Not Eligible</td>\n",
       "      <td>Eligible</td>\n",
       "    </tr>\n",
       "    <tr>\n",
       "      <th>636</th>\n",
       "      <td>60545</td>\n",
       "      <td>Live</td>\n",
       "      <td>Yes</td>\n",
       "      <td>Live</td>\n",
       "      <td>Not Eligible</td>\n",
       "    </tr>\n",
       "    <tr>\n",
       "      <th>637</th>\n",
       "      <td>71125</td>\n",
       "      <td>Not Eligible</td>\n",
       "      <td>NaN</td>\n",
       "      <td>Not Eligible</td>\n",
       "      <td>Not Eligible</td>\n",
       "    </tr>\n",
       "  </tbody>\n",
       "</table>\n",
       "<p>638 rows × 5 columns</p>\n",
       "</div>"
      ],
      "text/plain": [
       "     Store Number Grubhub Status Subway Delivery Status Doordash Status  \\\n",
       "0           10070       Eligible                    Yes            Live   \n",
       "1           10130     In Process                    Yes            Live   \n",
       "2           10380       Eligible                    Yes            Live   \n",
       "3           10402   Not Eligible                    NaN        Eligible   \n",
       "4           10406           Live                    Yes            Live   \n",
       "..            ...            ...                    ...             ...   \n",
       "633         11619   Not Eligible                    Yes            Live   \n",
       "634         21852           Live                    Yes            Live   \n",
       "635         45450   Not Eligible                    NaN    Not Eligible   \n",
       "636         60545           Live                    Yes            Live   \n",
       "637         71125   Not Eligible                    NaN    Not Eligible   \n",
       "\n",
       "      Uber Status  \n",
       "0            Live  \n",
       "1            Live  \n",
       "2            Live  \n",
       "3        Eligible  \n",
       "4            Live  \n",
       "..            ...  \n",
       "633  Not Eligible  \n",
       "634          Live  \n",
       "635      Eligible  \n",
       "636  Not Eligible  \n",
       "637  Not Eligible  \n",
       "\n",
       "[638 rows x 5 columns]"
      ]
     },
     "execution_count": 23,
     "metadata": {},
     "output_type": "execute_result"
    }
   ],
   "source": [
    "# Drop bad duplicated data in sa_data\n",
    "threepd_data.drop_duplicates(subset=[\"Store Number\"], keep=\"first\")"
   ]
  },
  {
   "cell_type": "code",
   "execution_count": 24,
   "id": "6cd297ce",
   "metadata": {},
   "outputs": [],
   "source": [
    "threepd_data.to_excel(\"data/3pd_data_clean.xlsx\", index=False)"
   ]
  },
  {
   "cell_type": "markdown",
   "id": "945fa244",
   "metadata": {},
   "source": [
    "Clean and transform win_data"
   ]
  },
  {
   "cell_type": "markdown",
   "id": "8e3175e8",
   "metadata": {},
   "source": [
    "IMPORTANT: Drop first 4 rows before moving forward"
   ]
  },
  {
   "cell_type": "code",
   "execution_count": 14,
   "id": "03344bca",
   "metadata": {},
   "outputs": [],
   "source": [
    "# DF and Rename Columns\n",
    "win_data = pd.DataFrame(win_data)\n",
    "win_data = win_data.rename(columns={\"Restaurant Number\": \"Store Number\"})\n",
    "win_data = win_data.rename(columns={\" % Complete\": \"Window Complete\"})"
   ]
  },
  {
   "cell_type": "code",
   "execution_count": 15,
   "id": "e46b387a",
   "metadata": {},
   "outputs": [],
   "source": [
    "# Drop Columns\n",
    "win_data = win_data[[\"Store Number\", \"Window Complete\"]]"
   ]
  },
  {
   "cell_type": "code",
   "execution_count": 16,
   "id": "3122061c",
   "metadata": {},
   "outputs": [
    {
     "data": {
      "text/html": [
       "<div>\n",
       "<style scoped>\n",
       "    .dataframe tbody tr th:only-of-type {\n",
       "        vertical-align: middle;\n",
       "    }\n",
       "\n",
       "    .dataframe tbody tr th {\n",
       "        vertical-align: top;\n",
       "    }\n",
       "\n",
       "    .dataframe thead th {\n",
       "        text-align: right;\n",
       "    }\n",
       "</style>\n",
       "<table border=\"1\" class=\"dataframe\">\n",
       "  <thead>\n",
       "    <tr style=\"text-align: right;\">\n",
       "      <th></th>\n",
       "      <th>Store Number</th>\n",
       "      <th>Window Complete</th>\n",
       "    </tr>\n",
       "  </thead>\n",
       "  <tbody>\n",
       "    <tr>\n",
       "      <th>0</th>\n",
       "      <td>1</td>\n",
       "      <td>0.000000</td>\n",
       "    </tr>\n",
       "    <tr>\n",
       "      <th>1</th>\n",
       "      <td>2</td>\n",
       "      <td>1.000000</td>\n",
       "    </tr>\n",
       "    <tr>\n",
       "      <th>2</th>\n",
       "      <td>8</td>\n",
       "      <td>0.000000</td>\n",
       "    </tr>\n",
       "    <tr>\n",
       "      <th>3</th>\n",
       "      <td>10</td>\n",
       "      <td>0.600000</td>\n",
       "    </tr>\n",
       "    <tr>\n",
       "      <th>4</th>\n",
       "      <td>12</td>\n",
       "      <td>0.769231</td>\n",
       "    </tr>\n",
       "    <tr>\n",
       "      <th>...</th>\n",
       "      <td>...</td>\n",
       "      <td>...</td>\n",
       "    </tr>\n",
       "    <tr>\n",
       "      <th>21061</th>\n",
       "      <td>71231</td>\n",
       "      <td>0.545455</td>\n",
       "    </tr>\n",
       "    <tr>\n",
       "      <th>21062</th>\n",
       "      <td>71303</td>\n",
       "      <td>0.166667</td>\n",
       "    </tr>\n",
       "    <tr>\n",
       "      <th>21063</th>\n",
       "      <td>71385</td>\n",
       "      <td>0.264706</td>\n",
       "    </tr>\n",
       "    <tr>\n",
       "      <th>21064</th>\n",
       "      <td>71392</td>\n",
       "      <td>0.050000</td>\n",
       "    </tr>\n",
       "    <tr>\n",
       "      <th>21065</th>\n",
       "      <td>71590</td>\n",
       "      <td>0.000000</td>\n",
       "    </tr>\n",
       "  </tbody>\n",
       "</table>\n",
       "<p>21066 rows × 2 columns</p>\n",
       "</div>"
      ],
      "text/plain": [
       "       Store Number  Window Complete\n",
       "0                 1         0.000000\n",
       "1                 2         1.000000\n",
       "2                 8         0.000000\n",
       "3                10         0.600000\n",
       "4                12         0.769231\n",
       "...             ...              ...\n",
       "21061         71231         0.545455\n",
       "21062         71303         0.166667\n",
       "21063         71385         0.264706\n",
       "21064         71392         0.050000\n",
       "21065         71590         0.000000\n",
       "\n",
       "[21066 rows x 2 columns]"
      ]
     },
     "execution_count": 16,
     "metadata": {},
     "output_type": "execute_result"
    }
   ],
   "source": [
    "# Drop bad duplicated data in sa_data\n",
    "win_data.drop_duplicates(subset=[\"Store Number\"], keep=\"first\")"
   ]
  },
  {
   "cell_type": "code",
   "execution_count": 17,
   "id": "728fc0e1",
   "metadata": {},
   "outputs": [],
   "source": [
    "win_data.to_excel(\"data/win_data_clean.xlsx\", index=False)"
   ]
  },
  {
   "cell_type": "markdown",
   "id": "da8c8c81",
   "metadata": {},
   "source": [
    "Clean and Transform ez_data"
   ]
  },
  {
   "cell_type": "markdown",
   "id": "5db9bb26",
   "metadata": {},
   "source": [
    "Use LocationsEnrolledwithezCater sheet"
   ]
  },
  {
   "cell_type": "code",
   "execution_count": null,
   "id": "d392c5a6",
   "metadata": {},
   "outputs": [],
   "source": [
    "ez_data = ez_data[[\"Store Number\", \"ezCater\", \"ezDelivery\", \"ezDispatch\"]]"
   ]
  },
  {
   "cell_type": "code",
   "execution_count": 5,
   "id": "6eec1056",
   "metadata": {},
   "outputs": [],
   "source": [
    "# Drop bad duplicated data in sa_data\n",
    "# ez.drop_duplicates(subset=[\"Store Number\"], keep=\"first\")"
   ]
  },
  {
   "cell_type": "markdown",
   "id": "e24a0b36",
   "metadata": {},
   "source": [
    "Clean and Transform rev_data"
   ]
  },
  {
   "cell_type": "code",
   "execution_count": 26,
   "id": "89d5942d",
   "metadata": {},
   "outputs": [],
   "source": [
    "# DF and Rename Columns\n",
    "rev_data = pd.DataFrame(rev_data)\n",
    "rev_data = rev_data.rename(columns={\"Restaurant\": \"Store Number\"})\n",
    "rev_data = rev_data.rename(columns={\"Overall Score\": \"Rev Score\"})"
   ]
  },
  {
   "cell_type": "code",
   "execution_count": 27,
   "id": "57d7a9bf",
   "metadata": {},
   "outputs": [],
   "source": [
    "rev_data = rev_data[[\"Store Number\", \"Rev Score\"]]"
   ]
  },
  {
   "cell_type": "code",
   "execution_count": 28,
   "id": "74d615c9",
   "metadata": {},
   "outputs": [],
   "source": [
    "rev_data['Store Number'] = rev_data['Store Number'].astype(str).str[:-2].astype(np.int64)"
   ]
  },
  {
   "cell_type": "code",
   "execution_count": 29,
   "id": "d44bdae9",
   "metadata": {
    "scrolled": true
   },
   "outputs": [
    {
     "data": {
      "text/html": [
       "<div>\n",
       "<style scoped>\n",
       "    .dataframe tbody tr th:only-of-type {\n",
       "        vertical-align: middle;\n",
       "    }\n",
       "\n",
       "    .dataframe tbody tr th {\n",
       "        vertical-align: top;\n",
       "    }\n",
       "\n",
       "    .dataframe thead th {\n",
       "        text-align: right;\n",
       "    }\n",
       "</style>\n",
       "<table border=\"1\" class=\"dataframe\">\n",
       "  <thead>\n",
       "    <tr style=\"text-align: right;\">\n",
       "      <th></th>\n",
       "      <th>Store Number</th>\n",
       "      <th>Rev Score</th>\n",
       "    </tr>\n",
       "  </thead>\n",
       "  <tbody>\n",
       "    <tr>\n",
       "      <th>0</th>\n",
       "      <td>1440</td>\n",
       "      <td>76.5</td>\n",
       "    </tr>\n",
       "    <tr>\n",
       "      <th>2</th>\n",
       "      <td>6496</td>\n",
       "      <td>77.5</td>\n",
       "    </tr>\n",
       "    <tr>\n",
       "      <th>4</th>\n",
       "      <td>25099</td>\n",
       "      <td>50.5</td>\n",
       "    </tr>\n",
       "    <tr>\n",
       "      <th>6</th>\n",
       "      <td>2881</td>\n",
       "      <td>69.5</td>\n",
       "    </tr>\n",
       "    <tr>\n",
       "      <th>8</th>\n",
       "      <td>11697</td>\n",
       "      <td>91.0</td>\n",
       "    </tr>\n",
       "    <tr>\n",
       "      <th>...</th>\n",
       "      <td>...</td>\n",
       "      <td>...</td>\n",
       "    </tr>\n",
       "    <tr>\n",
       "      <th>996</th>\n",
       "      <td>70650</td>\n",
       "      <td>78.0</td>\n",
       "    </tr>\n",
       "    <tr>\n",
       "      <th>998</th>\n",
       "      <td>1116</td>\n",
       "      <td>65.5</td>\n",
       "    </tr>\n",
       "    <tr>\n",
       "      <th>1000</th>\n",
       "      <td>24048</td>\n",
       "      <td>80.5</td>\n",
       "    </tr>\n",
       "    <tr>\n",
       "      <th>1002</th>\n",
       "      <td>52751</td>\n",
       "      <td>60.0</td>\n",
       "    </tr>\n",
       "    <tr>\n",
       "      <th>1004</th>\n",
       "      <td>30513</td>\n",
       "      <td>65.5</td>\n",
       "    </tr>\n",
       "  </tbody>\n",
       "</table>\n",
       "<p>502 rows × 2 columns</p>\n",
       "</div>"
      ],
      "text/plain": [
       "      Store Number  Rev Score\n",
       "0             1440       76.5\n",
       "2             6496       77.5\n",
       "4            25099       50.5\n",
       "6             2881       69.5\n",
       "8            11697       91.0\n",
       "...            ...        ...\n",
       "996          70650       78.0\n",
       "998           1116       65.5\n",
       "1000         24048       80.5\n",
       "1002         52751       60.0\n",
       "1004         30513       65.5\n",
       "\n",
       "[502 rows x 2 columns]"
      ]
     },
     "execution_count": 29,
     "metadata": {},
     "output_type": "execute_result"
    }
   ],
   "source": [
    "# Drop bad duplicated data in sa_data\n",
    "rev_data.drop_duplicates(subset=[\"Store Number\"], keep=\"first\")"
   ]
  },
  {
   "cell_type": "code",
   "execution_count": 30,
   "id": "299dcee2",
   "metadata": {},
   "outputs": [],
   "source": [
    "rev_data.to_excel(\"data/rev_data_clean.xlsx\", index=False)"
   ]
  },
  {
   "cell_type": "markdown",
   "id": "5d1ce46c",
   "metadata": {},
   "source": [
    "Clean and Transform Drinks Data"
   ]
  },
  {
   "cell_type": "code",
   "execution_count": 6,
   "id": "2d077372",
   "metadata": {},
   "outputs": [],
   "source": [
    "# DF and Rename Columns\n",
    "drinks_data = pd.DataFrame(drinks_data)\n",
    "drinks_data = drinks_data.rename(columns={\"Restaurant \": \"Store Number\"})\n",
    "drinks_data = drinks_data.rename(columns={\"Drink % Sales\": \"Drink Sales\"})"
   ]
  },
  {
   "cell_type": "code",
   "execution_count": 7,
   "id": "a8cf05d2",
   "metadata": {},
   "outputs": [],
   "source": [
    "drinks_data = drinks_data[[\"Store Number\", \"Drink Sales\"]]"
   ]
  },
  {
   "cell_type": "code",
   "execution_count": 8,
   "id": "f41446ce",
   "metadata": {},
   "outputs": [
    {
     "data": {
      "text/html": [
       "<div>\n",
       "<style scoped>\n",
       "    .dataframe tbody tr th:only-of-type {\n",
       "        vertical-align: middle;\n",
       "    }\n",
       "\n",
       "    .dataframe tbody tr th {\n",
       "        vertical-align: top;\n",
       "    }\n",
       "\n",
       "    .dataframe thead th {\n",
       "        text-align: right;\n",
       "    }\n",
       "</style>\n",
       "<table border=\"1\" class=\"dataframe\">\n",
       "  <thead>\n",
       "    <tr style=\"text-align: right;\">\n",
       "      <th></th>\n",
       "      <th>Store Number</th>\n",
       "      <th>Drink Sales</th>\n",
       "    </tr>\n",
       "  </thead>\n",
       "  <tbody>\n",
       "    <tr>\n",
       "      <th>0</th>\n",
       "      <td>364</td>\n",
       "      <td>8%</td>\n",
       "    </tr>\n",
       "    <tr>\n",
       "      <th>1</th>\n",
       "      <td>1440</td>\n",
       "      <td>8%</td>\n",
       "    </tr>\n",
       "    <tr>\n",
       "      <th>2</th>\n",
       "      <td>2031</td>\n",
       "      <td>7%</td>\n",
       "    </tr>\n",
       "    <tr>\n",
       "      <th>3</th>\n",
       "      <td>2499</td>\n",
       "      <td>8%</td>\n",
       "    </tr>\n",
       "    <tr>\n",
       "      <th>4</th>\n",
       "      <td>2504</td>\n",
       "      <td>9%</td>\n",
       "    </tr>\n",
       "    <tr>\n",
       "      <th>...</th>\n",
       "      <td>...</td>\n",
       "      <td>...</td>\n",
       "    </tr>\n",
       "    <tr>\n",
       "      <th>640</th>\n",
       "      <td>62703</td>\n",
       "      <td>7%</td>\n",
       "    </tr>\n",
       "    <tr>\n",
       "      <th>641</th>\n",
       "      <td>66589</td>\n",
       "      <td>7%</td>\n",
       "    </tr>\n",
       "    <tr>\n",
       "      <th>642</th>\n",
       "      <td>67098</td>\n",
       "      <td>11%</td>\n",
       "    </tr>\n",
       "    <tr>\n",
       "      <th>643</th>\n",
       "      <td>68704</td>\n",
       "      <td>0%</td>\n",
       "    </tr>\n",
       "    <tr>\n",
       "      <th>644</th>\n",
       "      <td>70650</td>\n",
       "      <td>9%</td>\n",
       "    </tr>\n",
       "  </tbody>\n",
       "</table>\n",
       "<p>645 rows × 2 columns</p>\n",
       "</div>"
      ],
      "text/plain": [
       "     Store Number Drink Sales\n",
       "0             364          8%\n",
       "1            1440          8%\n",
       "2            2031          7%\n",
       "3            2499          8%\n",
       "4            2504          9%\n",
       "..            ...         ...\n",
       "640         62703          7%\n",
       "641         66589          7%\n",
       "642         67098         11%\n",
       "643         68704          0%\n",
       "644         70650          9%\n",
       "\n",
       "[645 rows x 2 columns]"
      ]
     },
     "execution_count": 8,
     "metadata": {},
     "output_type": "execute_result"
    }
   ],
   "source": [
    "# Drop bad duplicated data\n",
    "drinks_data.drop_duplicates(subset=[\"Store Number\"], keep=\"first\")"
   ]
  },
  {
   "cell_type": "code",
   "execution_count": 9,
   "id": "661b28c2",
   "metadata": {},
   "outputs": [],
   "source": [
    "drinks_data.to_excel(\"data/drinks_data_clean.xlsx\", index=False)"
   ]
  },
  {
   "cell_type": "markdown",
   "id": "a8135492",
   "metadata": {},
   "source": [
    "Clean and Transform Rest Data"
   ]
  },
  {
   "cell_type": "code",
   "execution_count": 10,
   "id": "b4619f6e",
   "metadata": {},
   "outputs": [],
   "source": [
    "# DF and Rename Columns\n",
    "rest_data = pd.DataFrame(rest_data)\n",
    "rest_data = rest_data.rename(columns={\"Restaurant \": \"Store Number\"})\n",
    "rest_data = rest_data.rename(columns={\"Avg. AUV\": \"AUV\"})\n",
    "rest_data = rest_data.rename(columns={\"Avg. Factor\": \"Factor\"})\n",
    "rest_data = rest_data.rename(columns={\"Avg. Traffic\": \"Traffic\"})\n",
    "rest_data = rest_data.rename(columns={\"Avg. Units Count\": \"Units\"})"
   ]
  },
  {
   "cell_type": "code",
   "execution_count": 11,
   "id": "ec3d1b6c",
   "metadata": {},
   "outputs": [],
   "source": [
    "rest_data = rest_data[[\"Store Number\", \"Average Check\", \"Food Cost %\", \"Labor Cost %\", \"Prod\", \"AUV\", \"Factor\", \"Traffic\", \"Units\"]]"
   ]
  },
  {
   "cell_type": "code",
   "execution_count": 12,
   "id": "56919898",
   "metadata": {},
   "outputs": [
    {
     "data": {
      "text/html": [
       "<div>\n",
       "<style scoped>\n",
       "    .dataframe tbody tr th:only-of-type {\n",
       "        vertical-align: middle;\n",
       "    }\n",
       "\n",
       "    .dataframe tbody tr th {\n",
       "        vertical-align: top;\n",
       "    }\n",
       "\n",
       "    .dataframe thead th {\n",
       "        text-align: right;\n",
       "    }\n",
       "</style>\n",
       "<table border=\"1\" class=\"dataframe\">\n",
       "  <thead>\n",
       "    <tr style=\"text-align: right;\">\n",
       "      <th></th>\n",
       "      <th>Store Number</th>\n",
       "      <th>Average Check</th>\n",
       "      <th>Food Cost %</th>\n",
       "      <th>Labor Cost %</th>\n",
       "      <th>Prod</th>\n",
       "      <th>AUV</th>\n",
       "      <th>Factor</th>\n",
       "      <th>Traffic</th>\n",
       "      <th>Units</th>\n",
       "    </tr>\n",
       "  </thead>\n",
       "  <tbody>\n",
       "    <tr>\n",
       "      <th>0</th>\n",
       "      <td>1794</td>\n",
       "      <td>11.36</td>\n",
       "      <td>27.9%</td>\n",
       "      <td>20.4%</td>\n",
       "      <td>5.7</td>\n",
       "      <td>8413.167500</td>\n",
       "      <td>7.043090</td>\n",
       "      <td>740.333333</td>\n",
       "      <td>1020.166667</td>\n",
       "    </tr>\n",
       "    <tr>\n",
       "      <th>1</th>\n",
       "      <td>11639</td>\n",
       "      <td>12.09</td>\n",
       "      <td>29.9%</td>\n",
       "      <td>19.2%</td>\n",
       "      <td>5.8</td>\n",
       "      <td>7880.895000</td>\n",
       "      <td>7.200319</td>\n",
       "      <td>651.750000</td>\n",
       "      <td>909.333333</td>\n",
       "    </tr>\n",
       "    <tr>\n",
       "      <th>2</th>\n",
       "      <td>15186</td>\n",
       "      <td>14.76</td>\n",
       "      <td>28.7%</td>\n",
       "      <td>18.1%</td>\n",
       "      <td>5.7</td>\n",
       "      <td>9748.258333</td>\n",
       "      <td>8.089866</td>\n",
       "      <td>660.250000</td>\n",
       "      <td>1046.333333</td>\n",
       "    </tr>\n",
       "    <tr>\n",
       "      <th>3</th>\n",
       "      <td>17473</td>\n",
       "      <td>13.16</td>\n",
       "      <td>29.8%</td>\n",
       "      <td>19.1%</td>\n",
       "      <td>6.0</td>\n",
       "      <td>12652.196667</td>\n",
       "      <td>7.271652</td>\n",
       "      <td>961.500000</td>\n",
       "      <td>1491.916667</td>\n",
       "    </tr>\n",
       "    <tr>\n",
       "      <th>4</th>\n",
       "      <td>19922</td>\n",
       "      <td>13.92</td>\n",
       "      <td>28.0%</td>\n",
       "      <td>29.6%</td>\n",
       "      <td>3.7</td>\n",
       "      <td>6224.828333</td>\n",
       "      <td>7.811478</td>\n",
       "      <td>447.250000</td>\n",
       "      <td>706.750000</td>\n",
       "    </tr>\n",
       "    <tr>\n",
       "      <th>...</th>\n",
       "      <td>...</td>\n",
       "      <td>...</td>\n",
       "      <td>...</td>\n",
       "      <td>...</td>\n",
       "      <td>...</td>\n",
       "      <td>...</td>\n",
       "      <td>...</td>\n",
       "      <td>...</td>\n",
       "      <td>...</td>\n",
       "    </tr>\n",
       "    <tr>\n",
       "      <th>647</th>\n",
       "      <td>54562</td>\n",
       "      <td>9.19</td>\n",
       "      <td>30.4%</td>\n",
       "      <td>28.2%</td>\n",
       "      <td>4.4</td>\n",
       "      <td>2916.326667</td>\n",
       "      <td>7.039648</td>\n",
       "      <td>317.333333</td>\n",
       "      <td>361.000000</td>\n",
       "    </tr>\n",
       "    <tr>\n",
       "      <th>648</th>\n",
       "      <td>56810</td>\n",
       "      <td>14.33</td>\n",
       "      <td>28.9%</td>\n",
       "      <td>27.3%</td>\n",
       "      <td>3.4</td>\n",
       "      <td>5533.019167</td>\n",
       "      <td>9.105323</td>\n",
       "      <td>386.000000</td>\n",
       "      <td>511.250000</td>\n",
       "    </tr>\n",
       "    <tr>\n",
       "      <th>649</th>\n",
       "      <td>57802</td>\n",
       "      <td>8.10</td>\n",
       "      <td>29.4%</td>\n",
       "      <td>18.7%</td>\n",
       "      <td>4.1</td>\n",
       "      <td>8555.601667</td>\n",
       "      <td>7.398275</td>\n",
       "      <td>1055.666667</td>\n",
       "      <td>651.666667</td>\n",
       "    </tr>\n",
       "    <tr>\n",
       "      <th>650</th>\n",
       "      <td>60062</td>\n",
       "      <td>9.10</td>\n",
       "      <td>34.3%</td>\n",
       "      <td>32.9%</td>\n",
       "      <td>4.2</td>\n",
       "      <td>2677.040833</td>\n",
       "      <td>6.756439</td>\n",
       "      <td>294.250000</td>\n",
       "      <td>366.750000</td>\n",
       "    </tr>\n",
       "    <tr>\n",
       "      <th>651</th>\n",
       "      <td>68704</td>\n",
       "      <td>NaN</td>\n",
       "      <td>16.9%</td>\n",
       "      <td>43.8%</td>\n",
       "      <td>2.3</td>\n",
       "      <td>2456.291667</td>\n",
       "      <td>9.572495</td>\n",
       "      <td>0.000000</td>\n",
       "      <td>252.416667</td>\n",
       "    </tr>\n",
       "  </tbody>\n",
       "</table>\n",
       "<p>652 rows × 9 columns</p>\n",
       "</div>"
      ],
      "text/plain": [
       "     Store Number Average Check Food Cost % Labor Cost %  Prod           AUV  \\\n",
       "0            1794         11.36       27.9%        20.4%   5.7   8413.167500   \n",
       "1           11639         12.09       29.9%        19.2%   5.8   7880.895000   \n",
       "2           15186         14.76       28.7%        18.1%   5.7   9748.258333   \n",
       "3           17473         13.16       29.8%        19.1%   6.0  12652.196667   \n",
       "4           19922         13.92       28.0%        29.6%   3.7   6224.828333   \n",
       "..            ...           ...         ...          ...   ...           ...   \n",
       "647         54562          9.19       30.4%        28.2%   4.4   2916.326667   \n",
       "648         56810         14.33       28.9%        27.3%   3.4   5533.019167   \n",
       "649         57802          8.10       29.4%        18.7%   4.1   8555.601667   \n",
       "650         60062          9.10       34.3%        32.9%   4.2   2677.040833   \n",
       "651         68704           NaN       16.9%        43.8%   2.3   2456.291667   \n",
       "\n",
       "       Factor      Traffic        Units  \n",
       "0    7.043090   740.333333  1020.166667  \n",
       "1    7.200319   651.750000   909.333333  \n",
       "2    8.089866   660.250000  1046.333333  \n",
       "3    7.271652   961.500000  1491.916667  \n",
       "4    7.811478   447.250000   706.750000  \n",
       "..        ...          ...          ...  \n",
       "647  7.039648   317.333333   361.000000  \n",
       "648  9.105323   386.000000   511.250000  \n",
       "649  7.398275  1055.666667   651.666667  \n",
       "650  6.756439   294.250000   366.750000  \n",
       "651  9.572495     0.000000   252.416667  \n",
       "\n",
       "[652 rows x 9 columns]"
      ]
     },
     "execution_count": 12,
     "metadata": {},
     "output_type": "execute_result"
    }
   ],
   "source": [
    "# Drop bad duplicated data\n",
    "rest_data.drop_duplicates(subset=[\"Store Number\"], keep=\"first\")"
   ]
  },
  {
   "cell_type": "code",
   "execution_count": 13,
   "id": "3b9c0c9f",
   "metadata": {},
   "outputs": [],
   "source": [
    "rest_data.to_excel(\"data/rest_data_clean.xlsx\", index=False)"
   ]
  },
  {
   "cell_type": "markdown",
   "id": "fa2c6062",
   "metadata": {},
   "source": [
    "Clean and Transform ro_data"
   ]
  },
  {
   "cell_type": "code",
   "execution_count": 14,
   "id": "373bfbdd",
   "metadata": {},
   "outputs": [],
   "source": [
    "# DF and Rename Columns\n",
    "ro_data = pd.DataFrame(ro_data)\n",
    "ro_data = ro_data.rename(columns={\"Restaurant Number\": \"Store Number\"})\n",
    "ro_data = ro_data.rename(columns={\"Remote Order Avg Check\": \"RO Avg Check\"})\n",
    "ro_data = ro_data.rename(columns={\"Remote Order Avg Orders\": \"RO Avg Orders\"})\n",
    "ro_data = ro_data.rename(columns={\"Remote Order Avg Sales\": \"RO Avg Sales\"})"
   ]
  },
  {
   "cell_type": "code",
   "execution_count": 15,
   "id": "c7e50325",
   "metadata": {},
   "outputs": [],
   "source": [
    "ro_data = ro_data[[\"Store Number\", \"RO Avg Check\", \"RO Avg Orders\", \"RO Avg Sales\"]]"
   ]
  },
  {
   "cell_type": "code",
   "execution_count": 16,
   "id": "d26c6015",
   "metadata": {},
   "outputs": [
    {
     "data": {
      "text/html": [
       "<div>\n",
       "<style scoped>\n",
       "    .dataframe tbody tr th:only-of-type {\n",
       "        vertical-align: middle;\n",
       "    }\n",
       "\n",
       "    .dataframe tbody tr th {\n",
       "        vertical-align: top;\n",
       "    }\n",
       "\n",
       "    .dataframe thead th {\n",
       "        text-align: right;\n",
       "    }\n",
       "</style>\n",
       "<table border=\"1\" class=\"dataframe\">\n",
       "  <thead>\n",
       "    <tr style=\"text-align: right;\">\n",
       "      <th></th>\n",
       "      <th>Store Number</th>\n",
       "      <th>RO Avg Check</th>\n",
       "      <th>RO Avg Orders</th>\n",
       "      <th>RO Avg Sales</th>\n",
       "    </tr>\n",
       "  </thead>\n",
       "  <tbody>\n",
       "    <tr>\n",
       "      <th>0</th>\n",
       "      <td>261</td>\n",
       "      <td>15.61</td>\n",
       "      <td>55.000000</td>\n",
       "      <td>859</td>\n",
       "    </tr>\n",
       "    <tr>\n",
       "      <th>1</th>\n",
       "      <td>276</td>\n",
       "      <td>15.62</td>\n",
       "      <td>85.500000</td>\n",
       "      <td>1,336</td>\n",
       "    </tr>\n",
       "    <tr>\n",
       "      <th>2</th>\n",
       "      <td>281</td>\n",
       "      <td>14.79</td>\n",
       "      <td>44.333333</td>\n",
       "      <td>656</td>\n",
       "    </tr>\n",
       "    <tr>\n",
       "      <th>3</th>\n",
       "      <td>364</td>\n",
       "      <td>13.52</td>\n",
       "      <td>89.666667</td>\n",
       "      <td>1,212</td>\n",
       "    </tr>\n",
       "    <tr>\n",
       "      <th>4</th>\n",
       "      <td>565</td>\n",
       "      <td>14.73</td>\n",
       "      <td>53.666667</td>\n",
       "      <td>790</td>\n",
       "    </tr>\n",
       "    <tr>\n",
       "      <th>...</th>\n",
       "      <td>...</td>\n",
       "      <td>...</td>\n",
       "      <td>...</td>\n",
       "      <td>...</td>\n",
       "    </tr>\n",
       "    <tr>\n",
       "      <th>647</th>\n",
       "      <td>70185</td>\n",
       "      <td>11.53</td>\n",
       "      <td>13.666667</td>\n",
       "      <td>158</td>\n",
       "    </tr>\n",
       "    <tr>\n",
       "      <th>648</th>\n",
       "      <td>70480</td>\n",
       "      <td>14.04</td>\n",
       "      <td>14.083333</td>\n",
       "      <td>198</td>\n",
       "    </tr>\n",
       "    <tr>\n",
       "      <th>649</th>\n",
       "      <td>70650</td>\n",
       "      <td>9.05</td>\n",
       "      <td>58.666667</td>\n",
       "      <td>531</td>\n",
       "    </tr>\n",
       "    <tr>\n",
       "      <th>650</th>\n",
       "      <td>71125</td>\n",
       "      <td>14.99</td>\n",
       "      <td>4.250000</td>\n",
       "      <td>64</td>\n",
       "    </tr>\n",
       "    <tr>\n",
       "      <th>651</th>\n",
       "      <td>71385</td>\n",
       "      <td>0.00</td>\n",
       "      <td>NaN</td>\n",
       "      <td>NaN</td>\n",
       "    </tr>\n",
       "  </tbody>\n",
       "</table>\n",
       "<p>652 rows × 4 columns</p>\n",
       "</div>"
      ],
      "text/plain": [
       "     Store Number  RO Avg Check  RO Avg Orders RO Avg Sales\n",
       "0             261         15.61      55.000000          859\n",
       "1             276         15.62      85.500000        1,336\n",
       "2             281         14.79      44.333333          656\n",
       "3             364         13.52      89.666667        1,212\n",
       "4             565         14.73      53.666667          790\n",
       "..            ...           ...            ...          ...\n",
       "647         70185         11.53      13.666667          158\n",
       "648         70480         14.04      14.083333          198\n",
       "649         70650          9.05      58.666667          531\n",
       "650         71125         14.99       4.250000           64\n",
       "651         71385          0.00            NaN          NaN\n",
       "\n",
       "[652 rows x 4 columns]"
      ]
     },
     "execution_count": 16,
     "metadata": {},
     "output_type": "execute_result"
    }
   ],
   "source": [
    "# Drop bad duplicated data\n",
    "ro_data.drop_duplicates(subset=[\"Store Number\"], keep=\"first\")"
   ]
  },
  {
   "cell_type": "code",
   "execution_count": 17,
   "id": "1a1378c4",
   "metadata": {},
   "outputs": [],
   "source": [
    "ro_data.to_excel(\"data/ro_data_clean.xlsx\", index=False)"
   ]
  },
  {
   "cell_type": "code",
   "execution_count": null,
   "id": "b2828fb2",
   "metadata": {},
   "outputs": [],
   "source": [
    "# Add closure_data stores to \"Closed\" Field Consultant parse. If Restaurant Status == \"Store Closed\" .replace \"Closed\" in Field Consultant\n",
    "# This needs to be done after dataset merge, since Field Consultant column is needed\n",
    "# df.loc[df.Restaurant Status == \"Store Closed\", \"Field Consultant\"] = \"Closed\""
   ]
  },
  {
   "cell_type": "markdown",
   "id": "05497113",
   "metadata": {},
   "source": [
    "Merge Datasets"
   ]
  },
  {
   "cell_type": "code",
   "execution_count": 6,
   "id": "16fa1296",
   "metadata": {},
   "outputs": [],
   "source": [
    "# Removed for privacy\n",
    "# bc_data"
   ]
  },
  {
   "cell_type": "code",
   "execution_count": 2,
   "id": "6e91abf3",
   "metadata": {},
   "outputs": [],
   "source": [
    "# Read in cleaned data sets\n",
    "win_data_clean = pd.read_excel(\"data/win_data_clean.xlsx\")\n",
    "ez_data_clean = pd.read_excel(\"data/ez_data_clean.xlsx\")\n",
    "osat_data_clean = pd.read_excel(\"data/osat_data_clean.xlsx\")\n",
    "sa_data_clean = pd.read_excel(\"data/sa_data_clean.xlsx\")\n",
    "hours_data_clean = pd.read_excel(\"data/hours_data_clean.xlsx\")\n",
    "threepd_data_clean = pd.read_excel(\"data/3pd_data_clean.xlsx\")\n",
    "bc_data_clean = pd.read_excel(\"data/BC_list_clean.xlsx\")\n",
    "rev_data_clean = pd.read_excel(\"data/rev_data_clean.xlsx\")\n",
    "rest_data_clean = pd.read_excel(\"data/rest_data_clean.xlsx\")\n",
    "drinks_data_clean = pd.read_excel(\"data/drinks_data_clean.xlsx\")\n",
    "ro_data_clean = pd.read_excel(\"data/ro_data_clean.xlsx\")"
   ]
  },
  {
   "cell_type": "code",
   "execution_count": 3,
   "id": "bbaa3261",
   "metadata": {},
   "outputs": [],
   "source": [
    "#Merge all DFs with Hours_Data Store Number\n",
    "# dataframes = [hours_data, bc_data, sa_data, osat_data, threepd_data, win_data, ez_data]\n",
    "# df = reduce(lambda  left,right: pd.merge(left,right,on=['Store Number'], how='inner'), dataframes)\n",
    "df_bc = hours_data_clean.merge(bc_data_clean, on=\"Store Number\", how=\"left\")\n",
    "df_bc = df_bc.merge(sa_data_clean, on=\"Store Number\", how=\"left\")\n",
    "df_bc = df_bc.merge(win_data_clean, on=\"Store Number\", how=\"left\")\n",
    "df_bc = df_bc.merge(osat_data_clean, on=\"Store Number\", how=\"left\")\n",
    "df_bc = df_bc.merge(threepd_data_clean, on=\"Store Number\", how=\"left\")\n",
    "df_bc = df_bc.merge(ez_data_clean, on=\"Store Number\", how=\"left\")\n",
    "df_bc = df_bc.merge(rev_data_clean, on=\"Store Number\", how=\"left\")\n",
    "df_bc = df_bc.merge(rest_data_clean, on=\"Store Number\", how=\"left\")\n",
    "df_bc = df_bc.merge(drinks_data_clean, on=\"Store Number\", how=\"left\")\n",
    "df_bc = df_bc.merge(ro_data_clean, on=\"Store Number\", how=\"left\")"
   ]
  },
  {
   "cell_type": "code",
   "execution_count": 4,
   "id": "c7b88ca7",
   "metadata": {},
   "outputs": [
    {
     "data": {
      "text/plain": [
       "Index(['Store Number', 'Total Hours', 'BD Contract_x', 'Primary Owner Name',\n",
       "       'Restaurant', 'Field Consultant', 'SA1 Overdue', 'SA1 Complete',\n",
       "       'SA2 Complete', 'Window Complete', 'Overall Satisfaction', 'Quality',\n",
       "       'Speed of Service', 'Experience with Staff', 'Cleanliness', 'NPS',\n",
       "       'Alerts Closed 24 Hours', 'Surveys Per Restaurant', 'Grubhub Status',\n",
       "       'Subway Delivery Status', 'Doordash Status', 'Uber Status',\n",
       "       'BD Contract_y', 'ezCater', 'Delivery', 'ezDispatch', 'Owner Name',\n",
       "       'Rev Score', 'Average Check', 'Food Cost %', 'Labor Cost %', 'Prod',\n",
       "       'AUV', 'Factor', 'Traffic', 'Units', 'Drink Sales', 'RO Avg Check',\n",
       "       'RO Avg Orders', 'RO Avg Sales'],\n",
       "      dtype='object')"
      ]
     },
     "execution_count": 4,
     "metadata": {},
     "output_type": "execute_result"
    }
   ],
   "source": [
    "df_bc.columns"
   ]
  },
  {
   "cell_type": "code",
   "execution_count": 7,
   "id": "5beb8840",
   "metadata": {},
   "outputs": [],
   "source": [
    "# Removed for privacy\n",
    "# df_bc.drop_duplicates(subset=[\"Store Number\"], keep=\"first\")"
   ]
  },
  {
   "cell_type": "markdown",
   "id": "5abc2f47",
   "metadata": {},
   "source": [
    "Clean master df"
   ]
  },
  {
   "cell_type": "code",
   "execution_count": 8,
   "id": "ff6623af",
   "metadata": {},
   "outputs": [],
   "source": [
    "# Removed for privacy\n",
    "# df_bc = pd.DataFrame(df_bc)\n",
    "# df_bc[\"Field Consultant\"].fillna(\"Unknown\", inplace=True)\n",
    "# df_bc[\"Field Consultant\"].replace(\"###\", inplace=True)\n",
    "# df_bc.drop_duplicates(subset=[\"Store Number\"], keep=\"first\", inplace=True)\n",
    "# test_unique = df_bc[\"Field Consultant\"].unique()"
   ]
  },
  {
   "cell_type": "code",
   "execution_count": 8,
   "id": "d6e6424d",
   "metadata": {},
   "outputs": [],
   "source": [
    "# Fix breaks from old df_bc to new df_bc\n",
    "df_bc = df_bc.rename(columns={\"BD Contract\": \"BD Contract_x\"})\n",
    "df_bc = df_bc.rename(columns={\"BD Contract_y\": \"BD Contract \"})\n",
    "df_bc = df_bc.rename(columns={\"ezDispatch\": \"ezDisptach\"})"
   ]
  },
  {
   "cell_type": "code",
   "execution_count": 9,
   "id": "d12d994e",
   "metadata": {},
   "outputs": [],
   "source": [
    "df_bc.to_excel(\"data/new_df_bc.xlsx\", index=False)"
   ]
  },
  {
   "cell_type": "markdown",
   "id": "289009f3",
   "metadata": {},
   "source": [
    "Send Field Consultant Output"
   ]
  },
  {
   "cell_type": "code",
   "execution_count": 41,
   "id": "5afd6caf",
   "metadata": {},
   "outputs": [],
   "source": [
    "df = pd.read_excel(\"data/df.xlsx\")"
   ]
  },
  {
   "cell_type": "code",
   "execution_count": 9,
   "id": "93051bc0",
   "metadata": {},
   "outputs": [],
   "source": [
    "# df_bc_unique = df_bc[\"Field Consultant\"].unique()\n",
    "# df_bc[\"Field Consultant\"].fillna(\"Unknown\", inplace=True)\n",
    "# df_bc"
   ]
  },
  {
   "cell_type": "code",
   "execution_count": 45,
   "id": "e71e499f",
   "metadata": {},
   "outputs": [],
   "source": [
    "for i in test_unique:\n",
    "    a = df_bc[df_bc[\"Field Consultant\"].str.contains(i)]\n",
    "    a.to_excel(\"data/output/test/bc_dash/\" + i + \".xlsx\", index=False)"
   ]
  },
  {
   "cell_type": "markdown",
   "id": "3ea8e7ec",
   "metadata": {},
   "source": [
    "Miscellaneous"
   ]
  },
  {
   "cell_type": "code",
   "execution_count": 24,
   "id": "9bdd6970",
   "metadata": {},
   "outputs": [],
   "source": [
    "# Write DF to computer\n",
    "# osat_data.to_excel(\"osat_data.xlsx\")"
   ]
  },
  {
   "cell_type": "code",
   "execution_count": 32,
   "id": "4adf88d6",
   "metadata": {},
   "outputs": [],
   "source": [
    "# bc_data.to_excel(\"data/new_BC_list.xlsx\", index=False)"
   ]
  },
  {
   "cell_type": "code",
   "execution_count": 121,
   "id": "100221c5",
   "metadata": {},
   "outputs": [],
   "source": [
    "# bc_data.drop_duplicates(subset=[\"Store Number\"], keep=\"first\")"
   ]
  },
  {
   "cell_type": "code",
   "execution_count": 132,
   "id": "2dc1a5e2",
   "metadata": {},
   "outputs": [],
   "source": [
    "# Create Duplicates DF for finding Repeats and NaNs or printout whole bc_data list (if no Repeats or NaNs)\n",
    "# bc_dup = pd.concat(g for _, g in bc_data.groupby(\"Field Consultant\") if len(g) > 1)\n",
    "# bc_dup.to_excel(\"data/bc_duplicates.xlsx\", index=False)"
   ]
  },
  {
   "cell_type": "code",
   "execution_count": 9,
   "id": "d05efeee",
   "metadata": {},
   "outputs": [],
   "source": [
    "# Saving without Index\n",
    "# hours_data.to_excel(\"hours_data.xlsx\", index=False)"
   ]
  },
  {
   "cell_type": "code",
   "execution_count": 90,
   "id": "d2da5de6",
   "metadata": {},
   "outputs": [],
   "source": [
    "# df.to_excel(\"data/test_df.xlsx\", index=False)"
   ]
  },
  {
   "cell_type": "code",
   "execution_count": 36,
   "id": "c6f17ba1",
   "metadata": {},
   "outputs": [],
   "source": [
    "# df.to_excel(\"df.xlsx\")"
   ]
  },
  {
   "cell_type": "code",
   "execution_count": 104,
   "id": "8a46a8fe",
   "metadata": {},
   "outputs": [],
   "source": [
    "# df.to_excel(\"df.xlsx\", index=False)"
   ]
  },
  {
   "cell_type": "code",
   "execution_count": null,
   "id": "fed783e5",
   "metadata": {},
   "outputs": [],
   "source": [
    "# Drop one column in place\n",
    "# ez_data.drop([\"METRO\"], axis=1, inplace=True)"
   ]
  }
 ],
 "metadata": {
  "kernelspec": {
   "display_name": "Python 3 (ipykernel)",
   "language": "python",
   "name": "python3"
  },
  "language_info": {
   "codemirror_mode": {
    "name": "ipython",
    "version": 3
   },
   "file_extension": ".py",
   "mimetype": "text/x-python",
   "name": "python",
   "nbconvert_exporter": "python",
   "pygments_lexer": "ipython3",
   "version": "3.9.7"
  }
 },
 "nbformat": 4,
 "nbformat_minor": 5
}
