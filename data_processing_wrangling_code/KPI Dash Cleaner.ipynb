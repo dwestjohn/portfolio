{
 "cells": [
  {
   "cell_type": "markdown",
   "id": "6004ce14",
   "metadata": {},
   "source": [
    "IMPORTANT:\n",
    "SA - sent through email\n",
    "Window - sent through email\n",
    "3PD - sent through email\n",
    "(Hours of Op - Fresh Insights - Gold Workbooks - Daily Open and Close Times)\n",
    "EzCatering - sent through email\n",
    "(OSAT - Sub Listens ranker - click three dots, Export)"
   ]
  },
  {
   "cell_type": "markdown",
   "id": "211c67bc",
   "metadata": {},
   "source": [
    "Dependencies"
   ]
  },
  {
   "cell_type": "code",
   "execution_count": 1,
   "id": "aeab9b86",
   "metadata": {},
   "outputs": [],
   "source": [
    "import pandas as pd\n",
    "import numpy as np\n",
    "from io import StringIO\n",
    "from functools import reduce\n",
    "import glob"
   ]
  },
  {
   "cell_type": "markdown",
   "id": "08a9f252",
   "metadata": {},
   "source": [
    "Read in raw data files"
   ]
  },
  {
   "cell_type": "code",
   "execution_count": 2,
   "id": "90cf1004",
   "metadata": {},
   "outputs": [],
   "source": [
    "# Read in all data\n",
    "# IMPORTANT: switch file names to match script\n",
    "win_data = pd.read_excel(\"data/win_data.xlsx\")\n",
    "ez_data = pd.read_excel(\"data/ez_data.xlsx\")\n",
    "osat_data = pd.read_excel(\"data/osat_data.xlsx\")\n",
    "sa_data = pd.read_excel(\"data/sa_data.xlsx\")\n",
    "hours_data = pd.read_csv(\"data/hours_data.csv\")\n",
    "threepd_data = pd.read_excel(\"data/3pd_data.xlsx\")\n",
    "bc_data = pd.read_excel(\"data/BC_list_clean.xlsx\")\n",
    "rev_data = pd.read_csv(\"data/rev_data.csv\")\n",
    "closure_data = pd.read_csv(\"data/closure_data.csv\")\n",
    "old_df = pd.read_excel(\"data/new_df_old.xlsx\")"
   ]
  },
  {
   "cell_type": "code",
   "execution_count": 4,
   "id": "36a5a94d",
   "metadata": {},
   "outputs": [
    {
     "data": {
      "text/plain": [
       "Index(['Store Number', 'Total Hours', 'BD Contract_x', 'Primary Owner Name',\n",
       "       'Restaurant', 'Field Consultant', 'SA1 Overdue', 'SA1 Complete',\n",
       "       'SA2 Complete', 'Window Complete', 'Overall Satisfaction', 'Quality',\n",
       "       'Speed of Service', 'Experience with Staff', 'Cleanliness', 'NPS',\n",
       "       'Alerts Closed 24 Hours', 'Surveys Per Restaurant', 'Grubhub Status',\n",
       "       'Subway Delivery Status', 'Doordash Status', 'Uber Status',\n",
       "       'BD Contract ', 'ezCater', 'Delivery', 'ezDisptach', 'Owner Name',\n",
       "       'Rev Score'],\n",
       "      dtype='object')"
      ]
     },
     "execution_count": 4,
     "metadata": {},
     "output_type": "execute_result"
    }
   ],
   "source": [
    "old_df.columns"
   ]
  },
  {
   "cell_type": "markdown",
   "id": "3c119f7a",
   "metadata": {},
   "source": [
    "Clean and Transform bc_data"
   ]
  },
  {
   "cell_type": "code",
   "execution_count": 56,
   "id": "1a233bc4",
   "metadata": {},
   "outputs": [],
   "source": [
    "# Concate BC List sheets into one\n",
    "# bc_data = pd.concat(pd.read_excel(\"data/BC_list.xlsx\", sheet_name=None), \n",
    "#                    ignore_index=True)"
   ]
  },
  {
   "cell_type": "code",
   "execution_count": 2,
   "id": "d6f48a55",
   "metadata": {},
   "outputs": [],
   "source": [
    "# Removed for privacy\n",
    "# bc_data[\"Field Consultant\"].unique()"
   ]
  },
  {
   "cell_type": "code",
   "execution_count": 3,
   "id": "587e232b",
   "metadata": {},
   "outputs": [],
   "source": [
    "# Removed for privacy\n",
    "# bc_data[\"Field Consultant\"] = bc_data[\"Field Consultant\"].replace(\"###\", \"###\")"
   ]
  },
  {
   "cell_type": "code",
   "execution_count": 4,
   "id": "e249cfcb",
   "metadata": {},
   "outputs": [],
   "source": [
    "# Removed for privacy\n",
    "# bc_data.drop_duplicates(subset=[\"Store Number\"], keep=\"first\")"
   ]
  },
  {
   "cell_type": "code",
   "execution_count": 64,
   "id": "001094dc",
   "metadata": {},
   "outputs": [],
   "source": [
    "bc_data.to_excel(\"data/BC_list_clean.xlsx\", index=False)"
   ]
  },
  {
   "cell_type": "markdown",
   "id": "a31b19b1",
   "metadata": {},
   "source": [
    "Clean and Transform hours_data"
   ]
  },
  {
   "cell_type": "markdown",
   "id": "50a0ae40",
   "metadata": {},
   "source": [
    "IMPORTANT: Delete first four rows from raw file"
   ]
  },
  {
   "cell_type": "code",
   "execution_count": 5,
   "id": "cb1d5b7a",
   "metadata": {},
   "outputs": [],
   "source": [
    "# Removed for privacy\n",
    "# hours_data"
   ]
  },
  {
   "cell_type": "code",
   "execution_count": 103,
   "id": "c29b5b14",
   "metadata": {},
   "outputs": [
    {
     "data": {
      "text/plain": [
       "Index(['Field Consultant', 'Restaurant ', 'Location', 'Restaurant Status',\n",
       "       'Primary Owner Name', 'Restaurant Type', 'BDA Contract',\n",
       "       'Measure Names', 'Measure Values', 'Operating Hours'],\n",
       "      dtype='object')"
      ]
     },
     "execution_count": 103,
     "metadata": {},
     "output_type": "execute_result"
    }
   ],
   "source": [
    "hours_data.columns"
   ]
  },
  {
   "cell_type": "code",
   "execution_count": 104,
   "id": "952af719",
   "metadata": {},
   "outputs": [],
   "source": [
    "# Create DF to rename columns\n",
    "hours_data = pd.DataFrame(hours_data)\n",
    "hours_data = hours_data.rename(columns={\"Operating Hours\": \"Total Hours\"})\n",
    "hours_data = hours_data.rename(columns={\"Restaurant \": \"Store Number\"})\n",
    "hours_data = hours_data.rename(columns={\"Measure Names\": \"Measure_Names\"})\n",
    "hours_data = hours_data.rename(columns={\"Location\": \"Restaurant\"})\n",
    "hours_data = hours_data.rename(columns={\"BDA Contract\": \"BD Contract\"})"
   ]
  },
  {
   "cell_type": "code",
   "execution_count": 105,
   "id": "632e50e0",
   "metadata": {},
   "outputs": [],
   "source": [
    "# Hours Data - Remove rows with Required Hours (must change col to Hour_Type)\n",
    "hours_data = hours_data[hours_data.Measure_Names != \"Required Hours\"]"
   ]
  },
  {
   "cell_type": "code",
   "execution_count": 106,
   "id": "72745fb6",
   "metadata": {},
   "outputs": [
    {
     "name": "stderr",
     "output_type": "stream",
     "text": [
      "C:\\Users\\Westjohn\\AppData\\Local\\Temp/ipykernel_3676/2379779158.py:1: FutureWarning: The default value of regex will change from True to False in a future version.\n",
      "  hours_data['Store Number'] = hours_data['Store Number'].str.replace(r'\\D', '')\n"
     ]
    }
   ],
   "source": [
    "hours_data['Store Number'] = hours_data['Store Number'].str.replace(r'\\D', '')\n",
    "hours_data[\"Store Number\"] = hours_data[\"Store Number\"].str[:-1]"
   ]
  },
  {
   "cell_type": "code",
   "execution_count": 107,
   "id": "fa9774f5",
   "metadata": {},
   "outputs": [],
   "source": [
    "hours_data = hours_data[[\"Store Number\", \"Total Hours\", \"BD Contract\", \"Primary Owner Name\", \"Restaurant\"]]"
   ]
  },
  {
   "cell_type": "code",
   "execution_count": 6,
   "id": "a7e55ec5",
   "metadata": {},
   "outputs": [],
   "source": [
    "# Removed For privacy\n",
    "# hours_data[\"Primary Owner Name\"] = hours_data[\"Primary Owner Name\"].replace(\"###\", \"###\")"
   ]
  },
  {
   "cell_type": "code",
   "execution_count": 7,
   "id": "8b116dce",
   "metadata": {},
   "outputs": [],
   "source": [
    "# Removed for privacy\n",
    "# hours_data[\"Primary Owner Name\"] = hours_data[\"Primary Owner Name\"].replace(\"###, LLC\", \"###\")"
   ]
  },
  {
   "cell_type": "code",
   "execution_count": 8,
   "id": "c6d7d426",
   "metadata": {},
   "outputs": [],
   "source": [
    "# Removed for privacy\n",
    "# hours_data.drop_duplicates(subset=[\"Store Number\"], keep=\"first\")"
   ]
  },
  {
   "cell_type": "code",
   "execution_count": 117,
   "id": "16633f7a",
   "metadata": {},
   "outputs": [],
   "source": [
    "# Write Clean set\n",
    "hours_data.to_excel(\"data/hours_data_clean.xlsx\", index=False)"
   ]
  },
  {
   "cell_type": "markdown",
   "id": "f4fd4e53",
   "metadata": {},
   "source": [
    "Clean and Transform sa_data"
   ]
  },
  {
   "cell_type": "code",
   "execution_count": 54,
   "id": "f0fbff1b",
   "metadata": {},
   "outputs": [],
   "source": [
    "# DF and Rename Columns\n",
    "sa_data = pd.DataFrame(sa_data)\n",
    "sa_data = sa_data.rename(columns={\"Restaurant Number\": \"Store Number\"})\n",
    "sa_data = sa_data.rename(columns={\"SA 1 # Overdue\": \"SA1 Overdue\"})\n",
    "sa_data = sa_data.rename(columns={\"SA 1 % Complete\": \"SA1 Complete\"})\n",
    "sa_data = sa_data.rename(columns={\"SA 2 % complete\": \"SA2 Complete\"})"
   ]
  },
  {
   "cell_type": "code",
   "execution_count": 55,
   "id": "70fb214c",
   "metadata": {},
   "outputs": [],
   "source": [
    "sa_data = sa_data[[\"Store Number\", \"SA1 Overdue\", \"SA1 Complete\", \"SA2 Complete\"]]"
   ]
  },
  {
   "cell_type": "code",
   "execution_count": 9,
   "id": "98186bee",
   "metadata": {},
   "outputs": [],
   "source": [
    "# Removed for privacy\n",
    "# sa_data.drop_duplicates(subset=[\"Store Number\"], keep=\"first\")"
   ]
  },
  {
   "cell_type": "code",
   "execution_count": 57,
   "id": "084a02d7",
   "metadata": {},
   "outputs": [],
   "source": [
    "sa_data.to_excel(\"data/sa_data_clean.xlsx\", index=False)"
   ]
  },
  {
   "cell_type": "code",
   "execution_count": null,
   "id": "7b772e29",
   "metadata": {},
   "outputs": [],
   "source": [
    "# Unnamed Column\n",
    "# sa_data.drop([\"Unnamed: 0\"], axis=1, inplace=True)"
   ]
  },
  {
   "cell_type": "markdown",
   "id": "48ef2917",
   "metadata": {},
   "source": [
    "Clean and Transform osat_data"
   ]
  },
  {
   "cell_type": "code",
   "execution_count": 4,
   "id": "a53da1e9",
   "metadata": {},
   "outputs": [],
   "source": [
    "# DF and Rename Columns\n",
    "osat_data = pd.DataFrame(osat_data)\n",
    "osat_data = osat_data.rename(columns={\"\": \"Store Number\"})\n",
    "osat_data = osat_data.rename(columns={\"Taste/Quality of the Meal\": \"Quality\"})\n",
    "osat_data = osat_data.rename(columns={\"Cleanliness of Restaurant\": \"Cleanliness\"})\n",
    "osat_data = osat_data.rename(columns={\"Net Promoter Score\": \"NPS\"})\n",
    "osat_data = osat_data.rename(columns={\"% Alerts Closed within 24 Hours\": \"Alerts Closed 24 Hours\"})\n",
    "osat_data = osat_data.rename(columns={\"Surveys per Restaurant\": \"Surveys Per Restaurant\"})"
   ]
  },
  {
   "cell_type": "code",
   "execution_count": 5,
   "id": "b707000e",
   "metadata": {},
   "outputs": [],
   "source": [
    "osat_data = osat_data.rename(columns={\"Unnamed: 0\": \"Store Number\"})"
   ]
  },
  {
   "cell_type": "code",
   "execution_count": 6,
   "id": "3f18ba36",
   "metadata": {},
   "outputs": [
    {
     "name": "stderr",
     "output_type": "stream",
     "text": [
      "C:\\Users\\Westjohn\\AppData\\Local\\Temp/ipykernel_11136/415350303.py:2: FutureWarning: The default value of regex will change from True to False in a future version.\n",
      "  osat_data['Store Number'] = osat_data['Store Number'].str.replace(r'\\D', '')\n"
     ]
    }
   ],
   "source": [
    "# Clean OSAT column \n",
    "osat_data['Store Number'] = osat_data['Store Number'].str.replace(r'\\D', '')\n",
    "osat_data[\"Store Number\"] = osat_data[\"Store Number\"].str[:-1]"
   ]
  },
  {
   "cell_type": "code",
   "execution_count": 7,
   "id": "e6b3e5f4",
   "metadata": {},
   "outputs": [],
   "source": [
    "# Drop Multiple Columns from DF\n",
    "osat_data = osat_data[[\"Store Number\", \"Overall Satisfaction\", \"Quality\", \"Speed of Service\", \"Experience with Staff\", \"Cleanliness\", \"NPS\", \"Alerts Closed 24 Hours\", \"Surveys Per Restaurant\"]]"
   ]
  },
  {
   "cell_type": "code",
   "execution_count": 10,
   "id": "1bd79ff2",
   "metadata": {},
   "outputs": [],
   "source": [
    "# Removed for privacy\n",
    "# osat_data.drop_duplicates(subset=[\"Store Number\"], keep=\"first\")"
   ]
  },
  {
   "cell_type": "code",
   "execution_count": 9,
   "id": "cac55116",
   "metadata": {},
   "outputs": [],
   "source": [
    "osat_data.to_excel(\"data/osat_data_clean.xlsx\", index=False)"
   ]
  },
  {
   "cell_type": "markdown",
   "id": "6189727b",
   "metadata": {},
   "source": [
    "Clean and transform threepd_data"
   ]
  },
  {
   "cell_type": "code",
   "execution_count": 7,
   "id": "2e1a6aeb",
   "metadata": {},
   "outputs": [],
   "source": [
    "# DF and Rename Columns\n",
    "threepd_data = pd.DataFrame(threepd_data)\n",
    "threepd_data = threepd_data.rename(columns={\"DAI Store Number - \": \"Store Number\"})\n",
    "threepd_data = threepd_data.rename(columns={\"Grubhub Status?\": \"Grubhub Status\"})\n",
    "threepd_data = threepd_data.rename(columns={\"Subway Delivery\": \"Subway Delivery Status\"})\n",
    "threepd_data = threepd_data.rename(columns={\"Doordash Status?\": \"Doordash Status\"})"
   ]
  },
  {
   "cell_type": "code",
   "execution_count": 8,
   "id": "55cf7c90",
   "metadata": {},
   "outputs": [],
   "source": [
    "# Drop Columns\n",
    "threepd_data = threepd_data[[\"Store Number\", \"Grubhub Status\", \"Subway Delivery Status\", \"Doordash Status\", \"Uber Status\"]]"
   ]
  },
  {
   "cell_type": "code",
   "execution_count": 11,
   "id": "2ed119ab",
   "metadata": {},
   "outputs": [],
   "source": [
    "# # Removed for privacy\n",
    "# threepd_data.drop_duplicates(subset=[\"Store Number\"], keep=\"first\")"
   ]
  },
  {
   "cell_type": "code",
   "execution_count": 10,
   "id": "6cd297ce",
   "metadata": {},
   "outputs": [],
   "source": [
    "threepd_data.to_excel(\"data/3pd_data_clean.xlsx\", index=False)"
   ]
  },
  {
   "cell_type": "markdown",
   "id": "945fa244",
   "metadata": {},
   "source": [
    "Clean and transform win_data"
   ]
  },
  {
   "cell_type": "markdown",
   "id": "8e3175e8",
   "metadata": {},
   "source": [
    "IMPORTANT: Drop first 4 rows before moving forward"
   ]
  },
  {
   "cell_type": "code",
   "execution_count": 4,
   "id": "03344bca",
   "metadata": {},
   "outputs": [],
   "source": [
    "# DF and Rename Columns\n",
    "win_data = pd.DataFrame(win_data)\n",
    "win_data = win_data.rename(columns={\"Restaurant Number\": \"Store Number\"})\n",
    "win_data = win_data.rename(columns={\" % Complete\": \"Window Complete\"})"
   ]
  },
  {
   "cell_type": "code",
   "execution_count": 5,
   "id": "e46b387a",
   "metadata": {},
   "outputs": [],
   "source": [
    "# Drop Columns\n",
    "win_data = win_data[[\"Store Number\", \"Window Complete\"]]"
   ]
  },
  {
   "cell_type": "code",
   "execution_count": 12,
   "id": "3122061c",
   "metadata": {},
   "outputs": [],
   "source": [
    "# Remove for privacy\n",
    "# win_data.drop_duplicates(subset=[\"Store Number\"], keep=\"first\")"
   ]
  },
  {
   "cell_type": "code",
   "execution_count": 7,
   "id": "728fc0e1",
   "metadata": {},
   "outputs": [],
   "source": [
    "win_data.to_excel(\"data/win_data_clean.xlsx\", index=False)"
   ]
  },
  {
   "cell_type": "markdown",
   "id": "da8c8c81",
   "metadata": {},
   "source": [
    "Clean and Transform ez_data"
   ]
  },
  {
   "cell_type": "markdown",
   "id": "5db9bb26",
   "metadata": {},
   "source": [
    "Use LocationsEnrolledwithezCater sheet"
   ]
  },
  {
   "cell_type": "code",
   "execution_count": 14,
   "id": "786e4af1",
   "metadata": {},
   "outputs": [],
   "source": [
    "# ez_data = pd.DataFrame(ez_data)\n",
    "\n",
    "# ez_data = ez_data.rename(columns={\"ezCater Presence\": \"ezCater\"})\n",
    "# ez_data = ez_data.rename(columns={\"Delivery Enabled\": \"Delivery\"})\n",
    "# ez_data = ez_data.rename(columns={\"ezDispatch Enabled\": \"ezDispatch\"})\n",
    "# ez_data = ez_data.rename(columns={\"BD/SMO Contract\": \"BD Contract\"})\n",
    "# ez_data = ez_data.rename(columns={\"DAI Store Number \": \"Store Number\"})\n",
    "# # Don't use this column, placeholder on sheet so code doesn't break\n",
    "# ez_data = ez_data.rename(columns={\"BD Name(Unique)\": \"Owner Name\"})\n",
    "\n",
    "# ez_data = ez_data[[\"Store Number\", \"BD Contract\", \"ezCater\", \"Delivery\", \"ezDispatch\", \"Owner Name\"]]\n",
    "# ez_data.drop_duplicates(subset=[\"Store Number\"], keep=\"first\")\n"
   ]
  },
  {
   "cell_type": "code",
   "execution_count": 46,
   "id": "120cd70e",
   "metadata": {},
   "outputs": [],
   "source": [
    "ez_data = ez_data.loc[ez_data['ezCater'] == \"ezO + MP\"]"
   ]
  },
  {
   "cell_type": "code",
   "execution_count": 47,
   "id": "0018c36a",
   "metadata": {},
   "outputs": [],
   "source": [
    "ez_data.to_excel(\"data/ez_data_clean.xlsx\", index=False)"
   ]
  },
  {
   "cell_type": "markdown",
   "id": "e24a0b36",
   "metadata": {},
   "source": [
    "Clean and Transform rev_data"
   ]
  },
  {
   "cell_type": "code",
   "execution_count": 3,
   "id": "89d5942d",
   "metadata": {},
   "outputs": [],
   "source": [
    "# DF and Rename Columns\n",
    "rev_data = pd.DataFrame(rev_data)\n",
    "rev_data = rev_data.rename(columns={\"Restaurant\": \"Store Number\"})\n",
    "rev_data = rev_data.rename(columns={\"Overall Score\": \"Rev Score\"})"
   ]
  },
  {
   "cell_type": "code",
   "execution_count": 4,
   "id": "57d7a9bf",
   "metadata": {},
   "outputs": [],
   "source": [
    "rev_data = rev_data[[\"Store Number\", \"Rev Score\"]]"
   ]
  },
  {
   "cell_type": "code",
   "execution_count": 5,
   "id": "74d615c9",
   "metadata": {},
   "outputs": [],
   "source": [
    "rev_data['Store Number'] = rev_data['Store Number'].astype(str).str[:-2].astype(np.int64)"
   ]
  },
  {
   "cell_type": "code",
   "execution_count": 15,
   "id": "d44bdae9",
   "metadata": {
    "scrolled": true
   },
   "outputs": [],
   "source": [
    "# Drop bad duplicated data in sa_data\n",
    "# rev_data.drop_duplicates(subset=[\"Store Number\"], keep=\"first\", inplace=True)\n",
    "# rev_data"
   ]
  },
  {
   "cell_type": "code",
   "execution_count": 8,
   "id": "299dcee2",
   "metadata": {},
   "outputs": [],
   "source": [
    "rev_data.to_excel(\"data/rev_data_clean.xlsx\", index=False)"
   ]
  },
  {
   "cell_type": "markdown",
   "id": "fa4bdf70",
   "metadata": {},
   "source": [
    "Clean and Transform closure_data"
   ]
  },
  {
   "cell_type": "code",
   "execution_count": 14,
   "id": "bbb612e9",
   "metadata": {},
   "outputs": [],
   "source": [
    "# DF and Rename Columns\n",
    "closure_data = pd.DataFrame(closure_data)\n",
    "closure_data = closure_data.rename(columns={\"Restaurant Number\": \"Store Number\"})\n",
    "closure_data = closure_data.rename(columns={\"Temporary Close Reason\": \"Closure Reason\"})\n",
    "closure_data = closure_data.rename(columns={\"Permanent vs Temporary Closure\": \"Closure Status\"})\n",
    "closure_data = closure_data.rename(columns={\"Month, Day, Year of Temporary Close Date\": \"Date of Closure\"})"
   ]
  },
  {
   "cell_type": "code",
   "execution_count": 15,
   "id": "ef7a8121",
   "metadata": {},
   "outputs": [],
   "source": [
    "closure_data = closure_data[[\"Store Number\", \"BDA Contract Number\", \"Restaurant Status\", \"Date of Closure\", \"Closure Reason\", \"Closure Status\"]]"
   ]
  },
  {
   "cell_type": "code",
   "execution_count": 16,
   "id": "7edbf2b2",
   "metadata": {},
   "outputs": [],
   "source": [
    "# Drop bad duplicated data in sa_data\n",
    "# closure_data.drop_duplicates(subset=[\"Store Number\"], keep=\"first\")"
   ]
  },
  {
   "cell_type": "code",
   "execution_count": null,
   "id": "b2828fb2",
   "metadata": {},
   "outputs": [],
   "source": [
    "# Add closure_data stores to \"Closed\" Field Consultant parse. If Restaurant Status == \"Store Closed\" .replace \"Closed\" in Field Consultant\n",
    "# This needs to be done after dataset merge, since Field Consultant column is needed"
   ]
  },
  {
   "cell_type": "markdown",
   "id": "05497113",
   "metadata": {},
   "source": [
    "Merge Datasets"
   ]
  },
  {
   "cell_type": "code",
   "execution_count": 17,
   "id": "16fa1296",
   "metadata": {},
   "outputs": [],
   "source": [
    "# bc_data"
   ]
  },
  {
   "cell_type": "code",
   "execution_count": 8,
   "id": "6e91abf3",
   "metadata": {},
   "outputs": [],
   "source": [
    "# Read in cleaned data sets\n",
    "win_data_clean = pd.read_excel(\"data/win_data_clean.xlsx\")\n",
    "ez_data_clean = pd.read_excel(\"data/ez_data_clean.xlsx\")\n",
    "osat_data_clean = pd.read_excel(\"data/osat_data_clean.xlsx\")\n",
    "sa_data_clean = pd.read_excel(\"data/sa_data_clean.xlsx\")\n",
    "hours_data_clean = pd.read_excel(\"data/hours_data_clean.xlsx\")\n",
    "threepd_data_clean = pd.read_excel(\"data/3pd_data_clean.xlsx\")\n",
    "bc_data_clean = pd.read_excel(\"data/BC_list_clean.xlsx\")\n",
    "rev_data_clean = pd.read_excel(\"data/rev_data_clean.xlsx\")\n",
    "# closure_data_clean = pd.read_excel(\"data/closure_data_clean.xlsx\")\n",
    "# steph_list = pd.read_excel(\"data/steph_list.xlsx\")"
   ]
  },
  {
   "cell_type": "code",
   "execution_count": 4,
   "id": "bfb2ed9d",
   "metadata": {},
   "outputs": [
    {
     "data": {
      "text/plain": [
       "Index(['Store Number', 'Total Hours', 'BD Contract', 'Primary Owner Name',\n",
       "       'Restaurant'],\n",
       "      dtype='object')"
      ]
     },
     "execution_count": 4,
     "metadata": {},
     "output_type": "execute_result"
    }
   ],
   "source": [
    "hours_data_clean.columns"
   ]
  },
  {
   "cell_type": "code",
   "execution_count": 5,
   "id": "ab623aa3",
   "metadata": {},
   "outputs": [],
   "source": [
    "hours_data_clean = hours_data_clean.drop_duplicates(subset=[\"Primary Owner Name\"], keep=\"first\")"
   ]
  },
  {
   "cell_type": "code",
   "execution_count": 3,
   "id": "48c20481",
   "metadata": {},
   "outputs": [],
   "source": [
    "# Create Closure List out of Merged Data\n",
    "df_closure = closure_data_clean.merge(bc_data_clean, on=\"Store Number\", how=\"left\")\n",
    "df_closure = df_closure.merge(steph_list, on=\"Store Number\", how=\"left\")"
   ]
  },
  {
   "cell_type": "code",
   "execution_count": 5,
   "id": "09f79788",
   "metadata": {},
   "outputs": [],
   "source": [
    "df_closure = df_closure[[\"Store Number\", \"Address\", \"City\", \"State\", \"Field Consultant\", \"Store Status\"]]"
   ]
  },
  {
   "cell_type": "code",
   "execution_count": null,
   "id": "216c36af",
   "metadata": {},
   "outputs": [],
   "source": [
    "df_closure.to_excel(\"data/closure_list.xlsx\", index=False)"
   ]
  },
  {
   "cell_type": "code",
   "execution_count": 9,
   "id": "bbaa3261",
   "metadata": {},
   "outputs": [],
   "source": [
    "#Merge all DFs with Hours_Data Store Number\n",
    "# dataframes = [hours_data, bc_data, sa_data, osat_data, threepd_data, win_data, ez_data]\n",
    "# df = reduce(lambda  left,right: pd.merge(left,right,on=['Store Number'], how='inner'), dataframes)\n",
    "df = hours_data_clean.merge(bc_data_clean, on=\"Store Number\", how=\"left\")\n",
    "df = df.merge(sa_data_clean, on=\"Store Number\", how=\"left\")\n",
    "df = df.merge(win_data_clean, on=\"Store Number\", how=\"left\")\n",
    "df = df.merge(osat_data_clean, on=\"Store Number\", how=\"left\")\n",
    "df = df.merge(threepd_data_clean, on=\"Store Number\", how=\"left\")\n",
    "df = df.merge(ez_data_clean, on=\"Store Number\", how=\"left\")\n",
    "df = df.merge(rev_data_clean, on=\"Store Number\", how=\"left\")"
   ]
  },
  {
   "cell_type": "markdown",
   "id": "5abc2f47",
   "metadata": {},
   "source": [
    "Clean master df"
   ]
  },
  {
   "cell_type": "code",
   "execution_count": 19,
   "id": "584e7f56",
   "metadata": {},
   "outputs": [],
   "source": [
    "# df.columns"
   ]
  },
  {
   "cell_type": "code",
   "execution_count": 20,
   "id": "ff6623af",
   "metadata": {},
   "outputs": [],
   "source": [
    "# df = pd.DataFrame(df)\n",
    "# df[\"Field Consultant\"].fillna(\"Unknown\", inplace=True)\n",
    "# df[\"Field Consultant\"].replace(\"###\", \"###\", inplace=True)\n",
    "# df.drop_duplicates(subset=[\"Store Number\"], keep=\"first\", inplace=True)\n",
    "# test_unique = df[\"Field Consultant\"].unique()"
   ]
  },
  {
   "cell_type": "code",
   "execution_count": 13,
   "id": "d6e6424d",
   "metadata": {},
   "outputs": [],
   "source": [
    "# Fix breaks from old df to new df\n",
    "df = df.rename(columns={\"BD Contract\": \"BD Contract_x\"})\n",
    "df = df.rename(columns={\"BD Contract_y\": \"BD Contract \"})\n",
    "df = df.rename(columns={\"ezDispatch\": \"ezDisptach\"})"
   ]
  },
  {
   "cell_type": "code",
   "execution_count": 14,
   "id": "d12d994e",
   "metadata": {},
   "outputs": [],
   "source": [
    "df.to_excel(\"data/new_df.xlsx\", index=False)"
   ]
  },
  {
   "cell_type": "markdown",
   "id": "289009f3",
   "metadata": {},
   "source": [
    "Send Field Consultant Output"
   ]
  },
  {
   "cell_type": "code",
   "execution_count": 15,
   "id": "e71e499f",
   "metadata": {},
   "outputs": [],
   "source": [
    "for i in test_unique:\n",
    "    a = df[df[\"Field Consultant\"].str.contains(i)]\n",
    "    a.to_excel(\"data/output/test/\" + i + \".xlsx\", index=False)"
   ]
  },
  {
   "cell_type": "code",
   "execution_count": 41,
   "id": "5afd6caf",
   "metadata": {},
   "outputs": [],
   "source": [
    "df = pd.read_excel(\"data/df.xlsx\")"
   ]
  },
  {
   "cell_type": "markdown",
   "id": "3ea8e7ec",
   "metadata": {},
   "source": [
    "Miscellaneous"
   ]
  },
  {
   "cell_type": "code",
   "execution_count": 24,
   "id": "9bdd6970",
   "metadata": {},
   "outputs": [],
   "source": [
    "# Write DF to computer\n",
    "# osat_data.to_excel(\"osat_data.xlsx\")"
   ]
  },
  {
   "cell_type": "code",
   "execution_count": 32,
   "id": "4adf88d6",
   "metadata": {},
   "outputs": [],
   "source": [
    "# bc_data.to_excel(\"data/new_BC_list.xlsx\", index=False)"
   ]
  },
  {
   "cell_type": "code",
   "execution_count": 121,
   "id": "100221c5",
   "metadata": {},
   "outputs": [],
   "source": [
    "# bc_data.drop_duplicates(subset=[\"Store Number\"], keep=\"first\")"
   ]
  },
  {
   "cell_type": "code",
   "execution_count": 132,
   "id": "2dc1a5e2",
   "metadata": {},
   "outputs": [],
   "source": [
    "# Create Duplicates DF for finding Repeats and NaNs or printout whole bc_data list (if no Repeats or NaNs)\n",
    "# bc_dup = pd.concat(g for _, g in bc_data.groupby(\"Field Consultant\") if len(g) > 1)\n",
    "# bc_dup.to_excel(\"data/bc_duplicates.xlsx\", index=False)"
   ]
  },
  {
   "cell_type": "code",
   "execution_count": 9,
   "id": "d05efeee",
   "metadata": {},
   "outputs": [],
   "source": [
    "# Saving without Index\n",
    "# hours_data.to_excel(\"hours_data.xlsx\", index=False)"
   ]
  },
  {
   "cell_type": "code",
   "execution_count": 90,
   "id": "d2da5de6",
   "metadata": {},
   "outputs": [],
   "source": [
    "# df.to_excel(\"data/test_df.xlsx\", index=False)"
   ]
  },
  {
   "cell_type": "code",
   "execution_count": 36,
   "id": "c6f17ba1",
   "metadata": {},
   "outputs": [],
   "source": [
    "# df.to_excel(\"df.xlsx\")"
   ]
  },
  {
   "cell_type": "code",
   "execution_count": 104,
   "id": "8a46a8fe",
   "metadata": {},
   "outputs": [],
   "source": [
    "# df.to_excel(\"df.xlsx\", index=False)"
   ]
  },
  {
   "cell_type": "code",
   "execution_count": null,
   "id": "fed783e5",
   "metadata": {},
   "outputs": [],
   "source": [
    "# Drop one column in place\n",
    "# ez_data.drop([\"METRO\"], axis=1, inplace=True)"
   ]
  }
 ],
 "metadata": {
  "kernelspec": {
   "display_name": "Python 3 (ipykernel)",
   "language": "python",
   "name": "python3"
  },
  "language_info": {
   "codemirror_mode": {
    "name": "ipython",
    "version": 3
   },
   "file_extension": ".py",
   "mimetype": "text/x-python",
   "name": "python",
   "nbconvert_exporter": "python",
   "pygments_lexer": "ipython3",
   "version": "3.9.7"
  }
 },
 "nbformat": 4,
 "nbformat_minor": 5
}
